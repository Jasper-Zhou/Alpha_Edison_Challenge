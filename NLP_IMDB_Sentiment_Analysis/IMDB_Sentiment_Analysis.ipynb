{
 "cells": [
  {
   "cell_type": "code",
   "execution_count": 1,
   "metadata": {},
   "outputs": [
    {
     "name": "stderr",
     "output_type": "stream",
     "text": [
      "/Users/jianhenghou/anaconda2/envs/py36/lib/python3.6/site-packages/lightgbm/__init__.py:46: UserWarning: Starting from version 2.2.1, the library file in distribution wheels for macOS is built by the Apple Clang (Xcode_8.3.3) compiler.\n",
      "This means that in case of installing LightGBM from PyPI via the ``pip install lightgbm`` command, you don't need to install the gcc compiler anymore.\n",
      "Instead of that, you need to install the OpenMP library, which is required for running LightGBM on the system with the Apple Clang compiler.\n",
      "You can install the OpenMP library by the following command: ``brew install libomp``.\n",
      "  \"You can install the OpenMP library by the following command: ``brew install libomp``.\", UserWarning)\n"
     ]
    }
   ],
   "source": [
    "import numpy as np \n",
    "import pandas as pd \n",
    "pd.set_option('display.max_colwidth', -1)\n",
    "from time import time\n",
    "from scipy.sparse import coo_matrix, hstack\n",
    "import re, unicodedata\n",
    "import os\n",
    "\n",
    "from sklearn.utils import shuffle\n",
    "\n",
    "from nltk.stem import WordNetLemmatizer\n",
    "from tokenizer import tokenize\n",
    "\n",
    "from scipy.sparse import csr_matrix\n",
    "from sklearn.feature_extraction.text import TfidfVectorizer\n",
    "\n",
    "from sklearn.utils import shuffle\n",
    "from nltk.sentiment.vader import SentimentIntensityAnalyzer\n",
    "from sklearn.linear_model import LogisticRegression\n",
    "from sklearn.svm import SVC\n",
    "from sklearn.naive_bayes import GaussianNB\n",
    "from sklearn.ensemble import RandomForestClassifier\n",
    "import xgboost as xgb\n",
    "import lightgbm as lgb\n",
    "from sklearn.metrics import classification_report\n",
    "from sklearn.metrics import balanced_accuracy_score\n",
    "\n",
    "from sklearn.base import BaseEstimator, TransformerMixin\n",
    "from sklearn.feature_extraction.text import TfidfVectorizer\n",
    "from sklearn.model_selection import GridSearchCV\n",
    "from sklearn.model_selection import train_test_split\n",
    "\n",
    "import warnings\n",
    "warnings.filterwarnings('ignore')\n",
    "np.random.seed(37)\n",
    "import pyspark\n",
    "import matplotlib.pyplot as plt\n",
    "from collections import Counter"
   ]
  },
  {
   "cell_type": "code",
   "execution_count": 2,
   "metadata": {
    "collapsed": true
   },
   "outputs": [],
   "source": [
    "def read_files(path):\n",
    "    train_pos_files = os.listdir(path)\n",
    "    raw_text = []\n",
    "    for filename in train_pos_files:\n",
    "        fb = open(path+filename,'r')\n",
    "        raw_text.append(fb.readline())\n",
    "        fb.close()  \n",
    "    return raw_text"
   ]
  },
  {
   "cell_type": "code",
   "execution_count": 3,
   "metadata": {
    "collapsed": true
   },
   "outputs": [],
   "source": [
    "contraction_mapping = {\"ain't\": \"is not\", \"aren't\": \"are not\",\"can't\": \"cannot\", \"'cause\": \"because\", \"could've\": \"could have\", \"couldn't\": \"could not\", \"didn't\": \"did not\",  \"doesn't\": \"does not\", \"don't\": \"do not\", \"hadn't\": \"had not\", \"hasn't\": \"has not\", \"havent\":\"have not\",\"haven't\": \"have not\", \"he'd\": \"he would\",\"he'll\": \"he will\", \"he's\": \"he is\", \"how'd\": \"how did\", \"how'd'y\": \"how do you\", \"how'll\": \"how will\", \"how's\": \"how is\",  \"I'd\": \"I would\", \"I'd've\": \"I would have\", \"I'll\": \"I will\", \"I'll've\": \"I will have\",\"I'm\": \"I am\", \"I've\": \"I have\", \"i'd\": \"i would\", \"i'd've\": \"i would have\", \"i'll\": \"i will\",  \"i'll've\": \"i will have\",\"i'm\": \"i am\", \"i've\": \"i have\", \"isn't\": \"is not\", \"it'd\": \"it would\", \"it'd've\": \"it would have\", \"it'll\": \"it will\", \"it'll've\": \"it will have\",\"it's\": \"it is\", \"let's\": \"let us\", \"ma'am\": \"madam\", \"mayn't\": \"may not\", \"might've\": \"might have\",\"mightn't\": \"might not\",\"mightn't've\": \"might not have\", \"must've\": \"must have\", \"mustn't\": \"must not\", \"mustn't've\": \"must not have\", \"needn't\": \"need not\", \"needn't've\": \"need not have\",\"o'clock\": \"of the clock\", \"oughtn't\": \"ought not\", \"oughtn't've\": \"ought not have\", \"shan't\": \"shall not\", \"sha'n't\": \"shall not\", \"shan't've\": \"shall not have\", \"she'd\": \"she would\", \"she'd've\": \"she would have\", \"she'll\": \"she will\", \"she'll've\": \"she will have\", \"she's\": \"she is\", \"should've\": \"should have\", \"shouldn't\": \"should not\", \"shouldn't've\": \"should not have\", \"so've\": \"so have\",\"so's\": \"so as\", \"this's\": \"this is\",\"that'd\": \"that would\", \"that'd've\": \"that would have\", \"that's\": \"that is\", \"there'd\": \"there would\", \"there'd've\": \"there would have\", \"there's\": \"there is\", \"here's\": \"here is\",\"they'd\": \"they would\", \"they'd've\": \"they would have\", \"they'll\": \"they will\", \"they'll've\": \"they will have\", \"they're\": \"they are\", \"they've\": \"they have\", \"to've\": \"to have\", \"wasn't\": \"was not\", \"we'd\": \"we would\", \"we'd've\": \"we would have\", \"we'll\": \"we will\", \"we'll've\": \"we will have\", \"we're\": \"we are\", \"we've\": \"we have\", \"weren't\": \"were not\", \"what'll\": \"what will\", \"what'll've\": \"what will have\", \"what're\": \"what are\",  \"what's\": \"what is\", \"what've\": \"what have\", \"when's\": \"when is\", \"when've\": \"when have\", \"where'd\": \"where did\", \"where's\": \"where is\", \"where've\": \"where have\", \"who'll\": \"who will\", \"who'll've\": \"who will have\", \"who's\": \"who is\", \"who've\": \"who have\", \"why's\": \"why is\", \"why've\": \"why have\", \"will've\": \"will have\", \"won't\": \"will not\", \"won't've\": \"will not have\", \"would've\": \"would have\", \"wouldn't\": \"would not\", \"wouldn't've\": \"would not have\", \"y'all\": \"you all\", \"y'all'd\": \"you all would\",\"y'all'd've\": \"you all would have\",\"y'all're\": \"you all are\",\"y'all've\": \"you all have\",\"you'd\": \"you would\", \"you'd've\": \"you would have\", \"you'll\": \"you will\", \"you'll've\": \"you will have\", \"you're\": \"you are\", \"you've\": \"you have\" }\n",
    "def normalize(words):\n",
    "    word_list = []\n",
    "    for word in words:\n",
    "        \"\"\"Remove non-ASCII characters from list of tokenized words\"\"\"\n",
    "        new_word = unicodedata.normalize('NFKD', word).encode('ascii', 'ignore').decode('utf-8', 'ignore')\n",
    "        \"\"\"Convert all characters to lowercase from list of tokenized words\"\"\"\n",
    "        new_word = new_word.lower()\n",
    "        \"\"\"Remove punctuation except for \"?\" and \"!\" from list of tokenized words\"\"\"\n",
    "        if contraction_mapping.__contains__(new_word):\n",
    "            new_word = contraction_mapping[new_word]\n",
    "        new_word = re.sub(r'[^\\w\\s!?]', '', new_word)\n",
    "        \"\"\"Lemmatize verbs in list of tokenized words\"\"\"\n",
    "        lemmatizer = WordNetLemmatizer()\n",
    "        new_word = lemmatizer.lemmatize(new_word, pos='v')\n",
    "        \"\"\"Replace all interger occurrences in list of tokenized words with textual representation\"\"\"\n",
    "        if new_word.isdigit():\n",
    "            new_word = 'digit'\n",
    "        if new_word != '':\n",
    "            word_list.append(new_word)\n",
    "    return word_list"
   ]
  },
  {
   "cell_type": "markdown",
   "metadata": {},
   "source": [
    "# Loading the Data"
   ]
  },
  {
   "cell_type": "markdown",
   "metadata": {},
   "source": [
    "Read train data and test data from files"
   ]
  },
  {
   "cell_type": "code",
   "execution_count": 4,
   "metadata": {
    "collapsed": true
   },
   "outputs": [],
   "source": [
    "# read all train data\n",
    "train_pos = read_files('./aclImdb/train/pos/')\n",
    "train_neg = read_files('./aclImdb/train/neg/')\n",
    "raw_train_text = train_pos + train_neg\n",
    "train_label = [1] * len(train_pos) + [0] * len(train_neg)\n",
    "raw_train_text, train_label = shuffle(raw_train_text, train_label, random_state=0)\n",
    "\n",
    "# read all test data\n",
    "test_pos = read_files('./aclImdb/test/pos/')\n",
    "test_neg = read_files('./aclImdb/test/neg/')\n",
    "raw_test_text = test_pos + test_neg\n",
    "test_label = [1] * len(test_pos) + [0] * len(test_neg)\n",
    "raw_test_text, test_label = shuffle(raw_test_text, test_label, random_state=0)\n",
    "\n",
    "raw_corpus_text = raw_train_text + raw_test_text"
   ]
  },
  {
   "cell_type": "markdown",
   "metadata": {},
   "source": [
    "# Preprocessing the text"
   ]
  },
  {
   "cell_type": "markdown",
   "metadata": {},
   "source": [
    "Preprocessing for train text"
   ]
  },
  {
   "cell_type": "code",
   "execution_count": 5,
   "metadata": {
    "collapsed": true
   },
   "outputs": [],
   "source": [
    "train_text = []\n",
    "for each in raw_train_text:\n",
    "    tmp = each.replace('-', ' ').replace('<br />',\"\")\n",
    "    train_text.append(\"\".join(word + ' ' for word in normalize([word.txt for word in tokenize(tmp) if word.txt != None])).strip())\n",
    "test_text = []\n",
    "for each in raw_test_text:\n",
    "    tmp = each.replace('-', ' ').replace('<br />',\"\")\n",
    "    test_text.append(\"\".join(word + ' ' for word in normalize([word.txt for word in tokenize(tmp) if word.txt != None])).strip())\n",
    "processed_corpus_text = train_text + test_text"
   ]
  },
  {
   "cell_type": "markdown",
   "metadata": {},
   "source": [
    "Write corpus into a file"
   ]
  },
  {
   "cell_type": "code",
   "execution_count": 6,
   "metadata": {
    "collapsed": true
   },
   "outputs": [],
   "source": [
    "# with open('IMDB_raw_corpus_text.txt','w') as c:\n",
    "#     for line in raw_corpus_text:\n",
    "#         c.write(line + '\\n')\n",
    "#     c.close()\n",
    "# with open('IMDB_raw_train_text.txt','w') as tr:\n",
    "#     for line in train_text:\n",
    "#         tr.write(line + '\\n')\n",
    "#     tr.close()\n",
    "# with open('IMDB_raw_test_text.txt','w') as te:\n",
    "#     for line in test_text:\n",
    "#         te.write(line + '\\n')\n",
    "#     te.close()"
   ]
  },
  {
   "cell_type": "markdown",
   "metadata": {},
   "source": [
    "# Data Analysis"
   ]
  },
  {
   "cell_type": "code",
   "execution_count": 64,
   "metadata": {},
   "outputs": [
    {
     "data": {
      "image/png": "[encoded data removed]",
      "text/plain": [
       "<Figure size 864x720 with 1 Axes>"
      ]
     },
     "metadata": {},
     "output_type": "display_data"
    }
   ],
   "source": [
    "def normalize_analysis(words):\n",
    "    contraction_mapping = {\"ain't\": \"is not\", \"aren't\": \"are not\",\"can't\": \"cannot\", \"'cause\": \"because\", \"could've\": \"could have\", \"couldn't\": \"could not\", \"didn't\": \"did not\",  \"doesn't\": \"does not\", \"don't\": \"do not\", \"hadn't\": \"had not\", \"hasn't\": \"has not\", \"havent\":\"have not\",\"haven't\": \"have not\", \"he'd\": \"he would\",\"he'll\": \"he will\", \"he's\": \"he is\", \"how'd\": \"how did\", \"how'd'y\": \"how do you\", \"how'll\": \"how will\", \"how's\": \"how is\",  \"I'd\": \"I would\", \"I'd've\": \"I would have\", \"I'll\": \"I will\", \"I'll've\": \"I will have\",\"I'm\": \"I am\", \"I've\": \"I have\", \"i'd\": \"i would\", \"i'd've\": \"i would have\", \"i'll\": \"i will\",  \"i'll've\": \"i will have\",\"i'm\": \"i am\", \"i've\": \"i have\", \"isn't\": \"is not\", \"it'd\": \"it would\", \"it'd've\": \"it would have\", \"it'll\": \"it will\", \"it'll've\": \"it will have\",\"it's\": \"it is\", \"let's\": \"let us\", \"ma'am\": \"madam\", \"mayn't\": \"may not\", \"might've\": \"might have\",\"mightn't\": \"might not\",\"mightn't've\": \"might not have\", \"must've\": \"must have\", \"mustn't\": \"must not\", \"mustn't've\": \"must not have\", \"needn't\": \"need not\", \"needn't've\": \"need not have\",\"o'clock\": \"of the clock\", \"oughtn't\": \"ought not\", \"oughtn't've\": \"ought not have\", \"shan't\": \"shall not\", \"sha'n't\": \"shall not\", \"shan't've\": \"shall not have\", \"she'd\": \"she would\", \"she'd've\": \"she would have\", \"she'll\": \"she will\", \"she'll've\": \"she will have\", \"she's\": \"she is\", \"should've\": \"should have\", \"shouldn't\": \"should not\", \"shouldn't've\": \"should not have\", \"so've\": \"so have\",\"so's\": \"so as\", \"this's\": \"this is\",\"that'd\": \"that would\", \"that'd've\": \"that would have\", \"that's\": \"that is\", \"there'd\": \"there would\", \"there'd've\": \"there would have\", \"there's\": \"there is\", \"here's\": \"here is\",\"they'd\": \"they would\", \"they'd've\": \"they would have\", \"they'll\": \"they will\", \"they'll've\": \"they will have\", \"they're\": \"they are\", \"they've\": \"they have\", \"to've\": \"to have\", \"wasn't\": \"was not\", \"we'd\": \"we would\", \"we'd've\": \"we would have\", \"we'll\": \"we will\", \"we'll've\": \"we will have\", \"we're\": \"we are\", \"we've\": \"we have\", \"weren't\": \"were not\", \"what'll\": \"what will\", \"what'll've\": \"what will have\", \"what're\": \"what are\",  \"what's\": \"what is\", \"what've\": \"what have\", \"when's\": \"when is\", \"when've\": \"when have\", \"where'd\": \"where did\", \"where's\": \"where is\", \"where've\": \"where have\", \"who'll\": \"who will\", \"who'll've\": \"who will have\", \"who's\": \"who is\", \"who've\": \"who have\", \"why's\": \"why is\", \"why've\": \"why have\", \"will've\": \"will have\", \"won't\": \"will not\", \"won't've\": \"will not have\", \"would've\": \"would have\", \"wouldn't\": \"would not\", \"wouldn't've\": \"would not have\", \"y'all\": \"you all\", \"y'all'd\": \"you all would\",\"y'all'd've\": \"you all would have\",\"y'all're\": \"you all are\",\"y'all've\": \"you all have\",\"you'd\": \"you would\", \"you'd've\": \"you would have\", \"you'll\": \"you will\", \"you'll've\": \"you will have\", \"you're\": \"you are\", \"you've\": \"you have\" }\n",
    "    stop_words = set([\"i\", \"me\", \"my\", \"myself\", \"we\", \"our\", \"ours\", \"ourselves\", \"you\", \"your\", \"yours\", \"yourself\", \"yourselves\", \"he\", \"him\", \"his\", \"himself\", \"she\", \"her\", \"hers\", \"herself\", \"it\", \"its\", \"itself\", \"they\", \"them\", \"their\", \"theirs\", \"themselves\", \"what\", \"which\", \"who\", \"whom\", \"this\", \"that\", \"these\", \"those\", \"am\", \"is\", \"are\", \"was\", \"were\", \"be\", \"been\", \"being\", \"have\", \"has\", \"had\", \"having\", \"do\", \"does\", \"did\", \"doing\", \"a\", \"an\", \"the\", \"and\", \"but\", \"if\", \"or\", \"because\", \"as\", \"until\", \"while\", \"of\", \"at\", \"by\", \"for\", \"with\", \"about\", \"against\", \"between\", \"into\", \"through\", \"during\", \"before\", \"after\", \"above\", \"below\", \"to\", \"from\", \"up\", \"down\", \"in\", \"out\", \"on\", \"off\", \"over\", \"under\", \"again\", \"further\", \"then\", \"once\", \"here\", \"there\", \"when\", \"where\", \"why\", \"how\", \"all\", \"any\", \"both\", \"each\", \"few\", \"more\", \"most\", \"other\", \"some\", \"such\", \"no\", \"nor\", \"not\", \"only\", \"own\", \"same\", \"so\", \"than\", \"too\", \"very\", \"s\", \"t\", \"can\", \"will\", \"just\", \"don\", \"should\", \"now\"])\n",
    "\n",
    "    word_list = []\n",
    "    for word in words:\n",
    "        \"\"\"Remove non-ASCII characters from list of tokenized words\"\"\"\n",
    "        new_word = unicodedata.normalize('NFKD', word).encode('ascii', 'ignore').decode('utf-8', 'ignore')\n",
    "        \"\"\"Convert all characters to lowercase from list of tokenized words\"\"\"\n",
    "        new_word = new_word.lower()\n",
    "        \"\"\"Remove punctuation except for \"?\" and \"!\" from list of tokenized words\"\"\"\n",
    "        if contraction_mapping.__contains__(new_word):\n",
    "            new_word = contraction_mapping[new_word]\n",
    "        new_word = re.sub(r'[^\\w\\s!?]', '', new_word)\n",
    "        \"\"\"Lemmatize verbs in list of tokenized words\"\"\"\n",
    "        lemmatizer = WordNetLemmatizer()\n",
    "        new_word = lemmatizer.lemmatize(new_word, pos='v')\n",
    "        \"\"\"Replace all interger occurrences in list of tokenized words with textual representation\"\"\"\n",
    "        if new_word.isdigit():\n",
    "            new_word = 'digit'\n",
    "        if new_word in stop_words:\n",
    "            new_word = ''\n",
    "        if new_word != '':\n",
    "            word_list.append(new_word)\n",
    "    return word_list\n",
    "\n",
    "text_analysis = []\n",
    "for each in raw_corpus_text:\n",
    "    tmp = each.replace('-', ' ').replace('<br />',\"\")\n",
    "    text_analysis.append(\"\".join(word + ' ' for word in normalize_analysis([word.txt for word in tokenize(tmp) if word.txt != None])).strip())\n",
    "\n",
    "from sklearn.feature_extraction.text import CountVectorizer\n",
    "import collections\n",
    "import seaborn as sns\n",
    "sns.set(style=\"darkgrid\")\n",
    "sns.set(font_scale=1.3)\n",
    "\n",
    "cv = CountVectorizer()\n",
    "bow = cv.fit_transform(text_analysis)\n",
    "word_freq = dict(zip(cv.get_feature_names(), np.asarray(bow.sum(axis=0)).ravel()))\n",
    "word_counter = collections.Counter(word_freq)\n",
    "word_counter_df = pd.DataFrame(word_counter.most_common(20), columns = ['word', 'freq'])\n",
    "fig, ax = plt.subplots(figsize=(12, 10))\n",
    "sns.barplot(x=\"word\", y=\"freq\", data=word_counter_df, palette=\"PuBuGn_d\", ax=ax)\n",
    "plt.show();"
   ]
  },
  {
   "cell_type": "markdown",
   "metadata": {},
   "source": [
    "Take a look at the train text"
   ]
  },
  {
   "cell_type": "code",
   "execution_count": 7,
   "metadata": {
    "scrolled": true
   },
   "outputs": [
    {
     "data": {
      "text/html": [
       "<div>\n",
       "<style scoped>\n",
       "    .dataframe tbody tr th:only-of-type {\n",
       "        vertical-align: middle;\n",
       "    }\n",
       "\n",
       "    .dataframe tbody tr th {\n",
       "        vertical-align: top;\n",
       "    }\n",
       "\n",
       "    .dataframe thead th {\n",
       "        text-align: right;\n",
       "    }\n",
       "</style>\n",
       "<table border=\"1\" class=\"dataframe\">\n",
       "  <thead>\n",
       "    <tr style=\"text-align: right;\">\n",
       "      <th></th>\n",
       "      <th>raw_text</th>\n",
       "      <th>text</th>\n",
       "      <th>sentiment</th>\n",
       "    </tr>\n",
       "  </thead>\n",
       "  <tbody>\n",
       "    <tr>\n",
       "      <th>173</th>\n",
       "      <td>First off, I am a huge fan of Tolkien, and as one I will base most of my critic on his books.&lt;br /&gt;&lt;br /&gt;The movie is a standard adventure movie, well made with nifty special effects, nice sound track and fine acting. Now if this movie was called something else than lord of the rings the reviews wouldn't be half this good as they are here.&lt;br /&gt;&lt;br /&gt;The problem of the movie is that it takes the basic story line from Tolkiens books but then it goes and \"hollywoods\" everything it can, numerous scenes from the book are eighter missing or changed quite a lot, the characters are changed from the book also, a thing that I think should be punishable ! What the movie lacks is deep insight of the characters in it, I know that it is almost impossible to make a good film out of a good book, and it didn't work here eighter, mostly the motivation of the characters is left hazy at best.&lt;br /&gt;&lt;br /&gt;As a adventure movie it would rate 7+ / 10 As a adaptation of Tolkien it rates 2 / 10&lt;br /&gt;&lt;br /&gt;I mean honestly, what on earth was Arwen doing at rivendell ford ? And as for the comments that this movie \"is the best ever\" I can only say that eighter you are very young, or you havent seen good movies...&lt;br /&gt;&lt;br /&gt;Peter Jackson should have called this movie an adventure movie based on the lord of the rings.</td>\n",
       "      <td>first off i be a huge fan of tolkien and as one i will base most of my critic on his book the movie be a standard adventure movie well make with nifty special effect nice sound track and fine act now if this movie be call something else than lord of the ring the review would not be half this good as they be here the problem of the movie be that it take the basic story line from tolkiens book but then it go and hollywoods everything it can numerous scenes from the book be eighter miss or change quite a lot the character be change from the book also a thing that i think should be punishable ! what the movie lack be deep insight of the character in it i know that it be almost impossible to make a good film out of a good book and it did not work here eighter mostly the motivation of the character be leave hazy at best as a adventure movie it would rate digit digit as a adaptation of tolkien it rat digit 10i mean honestly what on earth be arwen do at rivendell ford ? and as for the comment that this movie be the best ever i can only say that eighter you be very young or you have not see good movies peter jackson should have call this movie an adventure movie base on the lord of the ring</td>\n",
       "      <td>0</td>\n",
       "    </tr>\n",
       "  </tbody>\n",
       "</table>\n",
       "</div>"
      ],
      "text/plain": [
       "                                                                                                                                                                                                                                                                                                                                                                                                                                                                                                                                                                                                                                                                                                                                                                                                                                                                                                                                                                                                                                                                                                                                                                                                                                                                                                                                                         raw_text  \\\n",
       "173  First off, I am a huge fan of Tolkien, and as one I will base most of my critic on his books.<br /><br />The movie is a standard adventure movie, well made with nifty special effects, nice sound track and fine acting. Now if this movie was called something else than lord of the rings the reviews wouldn't be half this good as they are here.<br /><br />The problem of the movie is that it takes the basic story line from Tolkiens books but then it goes and \"hollywoods\" everything it can, numerous scenes from the book are eighter missing or changed quite a lot, the characters are changed from the book also, a thing that I think should be punishable ! What the movie lacks is deep insight of the characters in it, I know that it is almost impossible to make a good film out of a good book, and it didn't work here eighter, mostly the motivation of the characters is left hazy at best.<br /><br />As a adventure movie it would rate 7+ / 10 As a adaptation of Tolkien it rates 2 / 10<br /><br />I mean honestly, what on earth was Arwen doing at rivendell ford ? And as for the comments that this movie \"is the best ever\" I can only say that eighter you are very young, or you havent seen good movies...<br /><br />Peter Jackson should have called this movie an adventure movie based on the lord of the rings.   \n",
       "\n",
       "                                                                                                                                                                                                                                                                                                                                                                                                                                                                                                                                                                                                                                                                                                                                                                                                                                                                                                                                                                                                                                                                                                                                                                                                                                                 text  \\\n",
       "173  first off i be a huge fan of tolkien and as one i will base most of my critic on his book the movie be a standard adventure movie well make with nifty special effect nice sound track and fine act now if this movie be call something else than lord of the ring the review would not be half this good as they be here the problem of the movie be that it take the basic story line from tolkiens book but then it go and hollywoods everything it can numerous scenes from the book be eighter miss or change quite a lot the character be change from the book also a thing that i think should be punishable ! what the movie lack be deep insight of the character in it i know that it be almost impossible to make a good film out of a good book and it did not work here eighter mostly the motivation of the character be leave hazy at best as a adventure movie it would rate digit digit as a adaptation of tolkien it rat digit 10i mean honestly what on earth be arwen do at rivendell ford ? and as for the comment that this movie be the best ever i can only say that eighter you be very young or you have not see good movies peter jackson should have call this movie an adventure movie base on the lord of the ring   \n",
       "\n",
       "     sentiment  \n",
       "173  0          "
      ]
     },
     "execution_count": 7,
     "metadata": {},
     "output_type": "execute_result"
    }
   ],
   "source": [
    "train_df = pd.DataFrame(list(zip(raw_train_text,train_text, train_label)), columns =['raw_text','text', 'sentiment'])\n",
    "test_df = pd.DataFrame(list(zip(raw_test_text,test_text, test_label)), columns =['raw_text','text', 'sentiment'])\n",
    "# pd.set_option('display.max_colwidth', 500)\n",
    "test_df.loc[[173]]"
   ]
  },
  {
   "cell_type": "markdown",
   "metadata": {},
   "source": [
    "# Word Embedding"
   ]
  },
  {
   "cell_type": "markdown",
   "metadata": {},
   "source": [
    "## TF-IDF"
   ]
  },
  {
   "cell_type": "markdown",
   "metadata": {},
   "source": [
    "Train TF-IDF embedding"
   ]
  },
  {
   "cell_type": "code",
   "execution_count": 85,
   "metadata": {},
   "outputs": [
    {
     "data": {
      "text/plain": [
       "TfidfVectorizer(analyzer='word', binary=False, decode_error='strict',\n",
       "        dtype=<class 'numpy.float64'>, encoding='utf-8', input='content',\n",
       "        lowercase=True, max_df=1.0, max_features=10000, min_df=2,\n",
       "        ngram_range=(1, 3), norm='l2', preprocessor=None, smooth_idf=True,\n",
       "        stop_words=['he', 'him', 'his', 'himself', 'she', 'her', 'hers', 'herself', 'it', 'its', 'itself', 'they', 'them', 'their', 'theirs', 'themselves', 'these', 'those', 'am', 'is', 'are', 'was', 'were', 'be', 'been', 'being', 'have', 'has', 'had', 'having', 'a', 'an', 'the', 'and', 'of', 'at', 'by', 'for', 'with', 'about', 'into', 'through', 'during', 'to', 'from', 'then', 'once', 'here', 'there', 'both', 'each', 'some', 'such', 'own', 'than', 'don', 'now'],\n",
       "        strip_accents=None, sublinear_tf=False,\n",
       "        token_pattern='(?u)\\\\b\\\\w\\\\w+\\\\b', tokenizer=None, use_idf=True,\n",
       "        vocabulary=None)"
      ]
     },
     "execution_count": 85,
     "metadata": {},
     "output_type": "execute_result"
    }
   ],
   "source": [
    "stop_words_list = [\"he\", \"him\", \"his\", \"himself\", \"she\", \"her\", \"hers\", \"herself\", \"it\", \"its\", \"itself\", \"they\", \"them\", \"their\", \"theirs\", \"themselves\", \"these\", \"those\", \"am\", \"is\", \"are\", \"was\", \"were\", \"be\", \"been\", \"being\", \"have\", \"has\", \"had\", \"having\", \"a\", \"an\", \"the\", \"and\", \"of\", \"at\", \"by\", \"for\", \"with\", \"about\", \"into\", \"through\", \"during\", \"to\", \"from\", \"then\", \"once\", \"here\", \"there\", \"both\", \"each\",  \"some\", \"such\",\"own\", \"than\", \"don\", \"now\"]\n",
    "Tfidf_vectorizer = TfidfVectorizer(max_features=10000,\n",
    "                                   min_df=2, \n",
    "                                   ngram_range=(1, 3),\n",
    "                                   analyzer='word',\n",
    "                                   stop_words = stop_words_list)\n",
    "\n",
    "Tfidf_vectorizer.fit(processed_corpus_text)"
   ]
  },
  {
   "cell_type": "markdown",
   "metadata": {},
   "source": [
    "Transform the train/test text into the corresponding TF-IDF embedding"
   ]
  },
  {
   "cell_type": "code",
   "execution_count": 87,
   "metadata": {
    "collapsed": true
   },
   "outputs": [],
   "source": [
    "train = Tfidf_vectorizer.transform(train_text)\n",
    "test = Tfidf_vectorizer.transform(test_text)"
   ]
  },
  {
   "cell_type": "markdown",
   "metadata": {},
   "source": [
    "# Feature Engineering"
   ]
  },
  {
   "cell_type": "code",
   "execution_count": 11,
   "metadata": {
    "collapsed": true
   },
   "outputs": [],
   "source": [
    "\n",
    "def add_features(text_list):\n",
    "    # length feature     \n",
    "    feature_length = []\n",
    "    # 'i' count feature\n",
    "    feature_i_count = []\n",
    "    for line in text_list:\n",
    "        cnt = Counter()\n",
    "        tokenzied = [word.txt for word in tokenize(line) if word.txt != None]\n",
    "        for word in tokenzied:\n",
    "            if word == 'i':\n",
    "                cnt['i'] += 1\n",
    "        feature_i_count.append(cnt['i'])\n",
    "        feature_length.append(len(tokenzied))\n",
    "    return feature_length, feature_i_count\n",
    "\n",
    "def add_pos_neg_weights(text_list, label):\n",
    "    # word pos/neg weight   \n",
    "    conf = SparkConf() \\\n",
    "            .setAppName(\"add_pos_neg_weight\") \\\n",
    "            .set(\"spark.driver.host\", \"localhost\")\n",
    "    sc = SparkContext(conf=conf)\n",
    "    text_RDD = sc.parallelize(list(zip(text_list, label)))\n",
    "    \n",
    "    pos_dict = text_RDD.filter(lambda x: x[1] == 1)\\\n",
    "                        .flatMap(lambda x: x[0].split(\" \"))\\\n",
    "                                .map(lambda x: (x, 1))\\\n",
    "                                    .reduceByKey(lambda a, b: a + b)\\\n",
    "                                            .collectAsMap()\n",
    "    neg_dict = text_RDD.filter(lambda x: x[1] == 0)\\\n",
    "                            .flatMap(lambda x: x[0].split(\" \"))\\\n",
    "                                    .map(lambda x: (x, 1))\\\n",
    "                                            .reduceByKey(lambda a, b: a + b)\\\n",
    "                                                    .collectAsMap()\n",
    "#     whole_RDD = pos_RDD.union(neg_RDD).reduceByKey(lambda x,y : x+y).map(lambda x: (x[0], (x[1] + 2)**2))    \n",
    "#     word_sentiment_weight = whole_RDD.collectAsMap()\n",
    "    sc.stop()\n",
    "    word_sentiment_weight = {}\n",
    "    all_words = set(pos_dict.keys()).union(set(neg_dict.keys()))\n",
    "    for key in all_words:\n",
    "        if key is not pos_dict:\n",
    "            pos_dict[key] = 0\n",
    "        if key is not neg_dict:\n",
    "            neg_dict[key] = 0\n",
    "        N = pos_dict[key] + neg_dict[key]\n",
    "        if key == 'ponyo':\n",
    "            print('yes')\n",
    "        word_sentiment_weight[key] = float((N + 2)**2) / ((pos_dict[key] + 1) * (neg_dict[key] + 1))\n",
    "\n",
    "    return word_sentiment_weight"
   ]
  },
  {
   "cell_type": "code",
   "execution_count": 29,
   "metadata": {
    "collapsed": true,
    "scrolled": false
   },
   "outputs": [],
   "source": [
    "# # new features: feat_len, feat_i\n",
    "# feat_len_train, feat_i_train = add_features(train_text)\n",
    "# feat_len_test, feat_i_test = add_features(test_text)\n",
    "\n",
    "# # sentiment weights for each word\n",
    "# from pyspark import SparkContext, SparkConf\n",
    "# feat_sentiment_weight = add_pos_neg_weights(train_text, train_label)"
   ]
  },
  {
   "cell_type": "code",
   "execution_count": 13,
   "metadata": {
    "collapsed": true
   },
   "outputs": [],
   "source": [
    "# feat_sentiment_weight_list = []\n",
    "# for feature_name in Tfidf_vectorizer.get_feature_names():\n",
    "#     if feature_name not in feat_sentiment_weight:\n",
    "#         feat_sentiment_weight_list.append(1)\n",
    "#     else:\n",
    "#         feat_sentiment_weight_list.append(feat_sentiment_weight[feature_name])"
   ]
  },
  {
   "cell_type": "code",
   "execution_count": 31,
   "metadata": {},
   "outputs": [],
   "source": [
    "# # adding new features if neccessary\n",
    "# boosted_train = train.toarray() * np.array(feat_sentiment_weight_list)\n",
    "# boosted_test = test.toarray() * np.array(feat_sentiment_weight_list)\n",
    "# boosted_train = np.c_[boosted_train, feat_len_train, feat_i_train] \n",
    "# boosted_test = np.c_[boosted_test, feat_len_test, feat_i_test] "
   ]
  },
  {
   "cell_type": "markdown",
   "metadata": {},
   "source": [
    "# Building Classifiers"
   ]
  },
  {
   "cell_type": "markdown",
   "metadata": {},
   "source": [
    "##  SentimentIntensityAnalyzer"
   ]
  },
  {
   "cell_type": "code",
   "execution_count": 54,
   "metadata": {},
   "outputs": [
    {
     "name": "stdout",
     "output_type": "stream",
     "text": [
      "              precision    recall  f1-score   support\n",
      "\n",
      "           0       0.78      0.57      0.66     12500\n",
      "           1       0.66      0.84      0.74     12500\n",
      "\n",
      "   micro avg       0.70      0.70      0.70     25000\n",
      "   macro avg       0.72      0.70      0.70     25000\n",
      "weighted avg       0.72      0.70      0.70     25000\n",
      "\n",
      "Accuracy: 0.7045600000000001\n"
     ]
    }
   ],
   "source": [
    "# Analysis using NLTK Vader SentimentAnalyser\n",
    "sia = SentimentIntensityAnalyzer()\n",
    "for train\n",
    "sia_y_pred_train = []\n",
    "for sentence in train_text:\n",
    "        ss = sia.polarity_scores(sentence)\n",
    "        if ss['compound'] >= 0.4:\n",
    "            sia_y_pred_train.append(1)\n",
    "        elif ss['compound'] <= -0.4:\n",
    "            sia_y_pred_train.append(-1)\n",
    "        else:\n",
    "            sia_y_pred_train.append(0)\n",
    "\n",
    "print(classification_report(test_label, sia_y_pred_train))\n",
    "print(\"Accuracy:\", balanced_accuracy_score(test_label, sia_y_pred_train))\n",
    "\n",
    "#  for test\n",
    "sia_y_pred_test = []\n",
    "value = []\n",
    "for sentence in test_text:\n",
    "        ss = sia.polarity_scores(sentence)\n",
    "        value.append(ss['compound'])\n",
    "        if ss['compound'] > 0.3:\n",
    "            sia_y_pred_test.append(1)\n",
    "        else:\n",
    "            sia_y_pred_test.append(0)\n",
    "print(classification_report(test_label, sia_y_pred_test))\n",
    "print(\"Accuracy:\", balanced_accuracy_score(test_label, sia_y_pred_test))"
   ]
  },
  {
   "cell_type": "markdown",
   "metadata": {},
   "source": [
    "## Logist Regression"
   ]
  },
  {
   "cell_type": "markdown",
   "metadata": {},
   "source": [
    "## Classifiers"
   ]
  },
  {
   "cell_type": "code",
   "execution_count": 47,
   "metadata": {},
   "outputs": [
    {
     "name": "stdout",
     "output_type": "stream",
     "text": [
      "{'C': 1, 'penalty': 'l2'}\n",
      "0.8949228944646784\n"
     ]
    }
   ],
   "source": [
    "#  best {'C': 1, 'penalty': 'l2'} for train\n",
    "#  best {'C': 0.1, 'penalty': 'l2'} for boosted_train\n",
    "param_grid = dict(C=[0.01, 0.1, 1], penalty =['l1','l2'])\n",
    "\n",
    "grid = GridSearchCV(LogisticRegression(), \n",
    "                    param_grid=param_grid, \n",
    "                    cv=5, \n",
    "                    scoring=['f1', 'roc_auc', 'balanced_accuracy'], \n",
    "                    refit='f1',\n",
    "                    n_jobs=-1)\n",
    "grid.fit(train, train_label)\n",
    "LR_model = grid.best_estimator_\n",
    "print(grid.best_params_)\n",
    "print(grid.best_score_)"
   ]
  },
  {
   "cell_type": "code",
   "execution_count": 48,
   "metadata": {},
   "outputs": [
    {
     "name": "stdout",
     "output_type": "stream",
     "text": [
      "==========Model Evalucation=========\n",
      "              precision    recall  f1-score   support\n",
      "\n",
      "           0       0.90      0.89      0.90     12500\n",
      "           1       0.89      0.90      0.90     12500\n",
      "\n",
      "   micro avg       0.90      0.90      0.90     25000\n",
      "   macro avg       0.90      0.90      0.90     25000\n",
      "weighted avg       0.90      0.90      0.90     25000\n",
      "\n",
      "============Test Accuracy===========\n",
      "0.8957200000000001\n"
     ]
    }
   ],
   "source": [
    "LR_y_pred = LR_model.predict(test)\n",
    "print(\"==========Model Evalucation=========\")\n",
    "print(classification_report(test_label, LR_y_pred))\n",
    "print(\"============Test Accuracy===========\")\n",
    "print(balanced_accuracy_score(test_label, LR_y_pred))"
   ]
  },
  {
   "cell_type": "markdown",
   "metadata": {},
   "source": [
    "## Support Vector Machine"
   ]
  },
  {
   "cell_type": "code",
   "execution_count": 49,
   "metadata": {},
   "outputs": [
    {
     "name": "stdout",
     "output_type": "stream",
     "text": [
      "{'C': 4, 'gamma': 1, 'kernel': 'rbf'}\n",
      "0.9001096993221857\n"
     ]
    }
   ],
   "source": [
    "# {'C': 4, 'gamma': 1, 'kernel': 'rbf'} forr 10000, 1\n",
    "# {'C': 4, 'gamma': 1, 'kernel': 'rbf'} for 30000, 1-5\n",
    "param_grid = dict(gamma=[1], C=[1, 2, 4], kernel=['rbf'])\n",
    "grid = GridSearchCV(SVC(), \n",
    "                    param_grid=param_grid, \n",
    "                    scoring=['f1'], \n",
    "                    refit='f1',\n",
    "                    n_jobs=-1)\n",
    "grid.fit(train, train_label)\n",
    "SVM_model = grid.best_estimator_\n",
    "print(grid.best_params_)\n",
    "print(grid.best_score_)"
   ]
  },
  {
   "cell_type": "code",
   "execution_count": 51,
   "metadata": {},
   "outputs": [
    {
     "name": "stdout",
     "output_type": "stream",
     "text": [
      "==========Model Evalucation=========\n",
      "              precision    recall  f1-score   support\n",
      "\n",
      "           0       0.90      0.90      0.90     12500\n",
      "           1       0.90      0.90      0.90     12500\n",
      "\n",
      "   micro avg       0.90      0.90      0.90     25000\n",
      "   macro avg       0.90      0.90      0.90     25000\n",
      "weighted avg       0.90      0.90      0.90     25000\n",
      "\n",
      "============Test Accuracy===========\n",
      "0.90036\n"
     ]
    }
   ],
   "source": [
    "SVM_y_pred = SVM_model.predict(test)\n",
    "print(\"==========Model Evalucation=========\")\n",
    "print(classification_report(test_label, SVM_y_pred))\n",
    "print(\"============Test Accuracy===========\")\n",
    "print(balanced_accuracy_score(test_label, SVM_y_pred))"
   ]
  },
  {
   "cell_type": "markdown",
   "metadata": {},
   "source": [
    "## Random Forest"
   ]
  },
  {
   "cell_type": "code",
   "execution_count": 93,
   "metadata": {},
   "outputs": [
    {
     "name": "stdout",
     "output_type": "stream",
     "text": [
      "{'criterion': 'entropy', 'max_depth': 40, 'n_estimators': 200, 'oob_score': True}\n",
      "0.8519883770473496\n"
     ]
    }
   ],
   "source": [
    "#  best {'criterion': 'entropy', 'max_depth': 40, 'n_estimators': 200, 'oob_score': True}\n",
    "param_grid = dict(n_estimators=[200], criterion=[\"entropy\"], oob_score=[True],max_depth=[40])\n",
    "\n",
    "grid = GridSearchCV(RandomForestClassifier(), \n",
    "                    param_grid=param_grid, \n",
    "                    scoring=['f1'], \n",
    "                    refit='f1',\n",
    "                    n_jobs=-1)\n",
    "grid.fit(train, train_label)\n",
    "RF_model = grid.best_estimator_\n",
    "print(grid.best_params_)\n",
    "print(grid.best_score_)"
   ]
  },
  {
   "cell_type": "code",
   "execution_count": 94,
   "metadata": {
    "scrolled": true
   },
   "outputs": [
    {
     "name": "stdout",
     "output_type": "stream",
     "text": [
      "==========Model Evalucation=========\n",
      "              precision    recall  f1-score   support\n",
      "\n",
      "           0       0.87      0.83      0.85     12500\n",
      "           1       0.84      0.87      0.86     12500\n",
      "\n",
      "   micro avg       0.85      0.85      0.85     25000\n",
      "   macro avg       0.86      0.85      0.85     25000\n",
      "weighted avg       0.86      0.85      0.85     25000\n",
      "\n",
      "============Test Accuracy===========\n",
      "0.8546\n"
     ]
    }
   ],
   "source": [
    "RF_y_pred = RF_model.predict(test)\n",
    "print(\"==========Model Evalucation=========\")\n",
    "print(classification_report(test_label, RF_y_pred))\n",
    "print(\"============Test Accuracy===========\")\n",
    "print(balanced_accuracy_score(test_label, RF_y_pred))"
   ]
  },
  {
   "cell_type": "markdown",
   "metadata": {},
   "source": [
    "check feature importance"
   ]
  },
  {
   "cell_type": "code",
   "execution_count": 97,
   "metadata": {
    "collapsed": true
   },
   "outputs": [],
   "source": [
    "def plot_feature_importances(clf, X_train, y_train=None, \n",
    "                             top_n=10, figsize=(20,20), print_table=False, title=\"Feature Importances\"):\n",
    "    __name__ = \"plot_feature_importances\"\n",
    "    \n",
    "    feat_imp = pd.DataFrame({'importance':clf.feature_importances_})    \n",
    "    feat_imp['feature'] = X_train.columns\n",
    "    feat_imp.sort_values(by='importance', ascending=False, inplace=True)\n",
    "    feat_imp = feat_imp.iloc[:top_n]\n",
    "    \n",
    "    feat_imp.sort_values(by='importance', inplace=True)\n",
    "    feat_imp = feat_imp.set_index('feature', drop=True)\n",
    "    feat_imp.plot.barh(title=title, figsize=figsize)\n",
    "    plt.xlabel('Feature Importance Score')\n",
    "    plt.show()\n",
    "    \n",
    "    if print_table:\n",
    "        from IPython.display import display\n",
    "        print(\"Top {} features in descending order of importance\".format(top_n))\n",
    "        display(feat_imp.sort_values(by='importance', ascending=False))\n",
    "        \n",
    "    return feat_imp"
   ]
  },
  {
   "cell_type": "code",
   "execution_count": 98,
   "metadata": {},
   "outputs": [
    {
     "data": {
      "image/png": "[encoded data removed]",
      "text/plain": [
       "<Figure size 1440x1440 with 1 Axes>"
      ]
     },
     "metadata": {},
     "output_type": "display_data"
    }
   ],
   "source": [
    "X_train = pd.DataFrame(train.toarray(), columns=Tfidf_vectorizer.get_feature_names())\n",
    "y_train = pd.DataFrame(train_label)\n",
    "_ = plot_feature_importances(RF_model, X_train, y_train, top_n=30)"
   ]
  },
  {
   "cell_type": "markdown",
   "metadata": {},
   "source": [
    "## XGBoost"
   ]
  },
  {
   "cell_type": "code",
   "execution_count": 58,
   "metadata": {},
   "outputs": [
    {
     "name": "stdout",
     "output_type": "stream",
     "text": [
      "{'n_estimators': 3000}\n",
      "0.8788980982857951\n"
     ]
    }
   ],
   "source": [
    "# 2000 best\n",
    "#  {'n_estimators': 3000} for 30000, 1-5 gram\n",
    "cv_params = {'n_estimators': [2000, 3000, 4000]}\n",
    "other_params = {'learning_rate': 0.1, 'n_estimators': 500, 'max_depth': 5, 'min_child_weight': 1, 'seed': 0,\n",
    "                    'subsample': 0.8, 'colsample_bytree': 0.8, 'gamma': 0, 'reg_alpha': 0, 'reg_lambda': 1,\n",
    "                'early_stopping_rounds': 20}\n",
    "xgb_model = xgb.XGBClassifier(**other_params)\n",
    "grid = GridSearchCV(xgb_model, \n",
    "                    param_grid=cv_params, \n",
    "                    scoring=['f1'], \n",
    "                    refit='f1',\n",
    "                    n_jobs=-1)\n",
    "grid.fit(train, train_label)\n",
    "XGBoost_model = grid.best_estimator_\n",
    "print(grid.best_params_)\n",
    "print(grid.best_score_)"
   ]
  },
  {
   "cell_type": "code",
   "execution_count": 59,
   "metadata": {},
   "outputs": [
    {
     "name": "stdout",
     "output_type": "stream",
     "text": [
      "==========Model Evalucation=========\n",
      "              precision    recall  f1-score   support\n",
      "\n",
      "           0       0.89      0.88      0.88     12500\n",
      "           1       0.88      0.89      0.89     12500\n",
      "\n",
      "   micro avg       0.89      0.89      0.89     25000\n",
      "   macro avg       0.89      0.89      0.89     25000\n",
      "weighted avg       0.89      0.89      0.89     25000\n",
      "\n",
      "============Test Accuracy===========\n",
      "0.88556\n"
     ]
    }
   ],
   "source": [
    "xgb_y_pred = XGBoost_model.predict(test)\n",
    "print(\"==========Model Evalucation=========\")\n",
    "print(classification_report(test_label, xgb_y_pred))\n",
    "print(\"============Test Accuracy===========\")\n",
    "print(balanced_accuracy_score(test_label, xgb_y_pred))"
   ]
  },
  {
   "cell_type": "markdown",
   "metadata": {},
   "source": [
    "## Ensembled model (SVM + LR + SIA)"
   ]
  },
  {
   "cell_type": "code",
   "execution_count": 57,
   "metadata": {},
   "outputs": [
    {
     "data": {
      "text/html": [
       "<div>\n",
       "<style scoped>\n",
       "    .dataframe tbody tr th:only-of-type {\n",
       "        vertical-align: middle;\n",
       "    }\n",
       "\n",
       "    .dataframe tbody tr th {\n",
       "        vertical-align: top;\n",
       "    }\n",
       "\n",
       "    .dataframe thead th {\n",
       "        text-align: right;\n",
       "    }\n",
       "</style>\n",
       "<table border=\"1\" class=\"dataframe\">\n",
       "  <thead>\n",
       "    <tr style=\"text-align: right;\">\n",
       "      <th></th>\n",
       "      <th>test_text</th>\n",
       "      <th>true_label</th>\n",
       "      <th>LR_predict</th>\n",
       "      <th>SVM_predict</th>\n",
       "      <th>SIA_predict</th>\n",
       "    </tr>\n",
       "  </thead>\n",
       "  <tbody>\n",
       "    <tr>\n",
       "      <th>0</th>\n",
       "      <td>like many western pennsylvania history buff i have be really look forward to this much herald pbs program that be produce by pittsburghs wqed however i must say now that i be somewhat disappoint on the positive side i believe that overall this film do a fair job of explain the main issue and describe the events of the so call french and indian war in particular its presentation of the indians point of view be somewhat new and quite interest although it certainly be at time over emphasize also on the positive side the blend of narrative and action scenes be well do and come across somewhat better than many of these typical documentaries make up of experts interview and picture still a la ken burn on the negative side many of the battle do have a somewhat stag look and many important aspects of the war be overlook most of all i be very disappoint and frustrate by how little importance be give to forbess successful campaign of digit against fort duquesne as compare to the earlier failures of digit by washington and digit by braddock in particular i be somewhat incredulous that there be no mention of colonel henry bouquet the swiss mercenary in the british service who be most responsible for forbes success finally i could not believe the complete omission of the digit battle of bushy run that start as a re run of braddocks defeat but end up as the victory that decide the outcome of pontiacs war thank to the wiles of the same colonel bouquet who certainly must rank as one of the most successful british commanders of this war</td>\n",
       "      <td>0</td>\n",
       "      <td>1</td>\n",
       "      <td>1</td>\n",
       "      <td>0</td>\n",
       "    </tr>\n",
       "    <tr>\n",
       "      <th>1</th>\n",
       "      <td>there is a brand new killer on the loose and he is do gods work yeah right ! this killer make jason voorhes look like a chump and freddy krueger look like a rag doll against this dude he be jacob goodnight wwes glen kane jacobs a digit monster who wield a axe and a hook and chain those weapons be nothing to him his real finisher be rip out eyeball from the victims sockets that be totally methodical ! when the encounter happen digit years earlier jacob kill a rookie cop and maim the veteran after put a bullet in his head how on earth do goodnight survive after digit years ? now he is in the condemn hotel call blackwell and this hotel get a lot of stories to tell i think this movie be haunt as well as interest i like the part where goodnight check out one of the girls tattoo on her back and goodnight himself be really derange thank to his maniacal mother if you think friday the digit th be something you better think again this movie will leave you on the edge of you seat and i think the eyeball rip be bone chill this movie prove it point and it was not a waste of my time i enjoy it the title do not lie ! rat digit out of digit star !</td>\n",
       "      <td>1</td>\n",
       "      <td>0</td>\n",
       "      <td>0</td>\n",
       "      <td>0</td>\n",
       "    </tr>\n",
       "    <tr>\n",
       "      <th>2</th>\n",
       "      <td>as if the world had not already get enough cheap jaw imitations writer boaz davidson decide to make the sequel to his ropey but reasonably enjoyable creature feature octopus a complete rip off of spielbergs classic right down to have a concern cop who no one believe and a mayor more worry about his digit th july celebrations than people live even in the hand of an extremely skilled director it be unlikely that this derivative rubbish could have be anything other than hokey b movie garbage but with yossi wein yes the yossi wein ! call the shots behind the camera a man with a fraction of mrspielbergs talent i estimate about digit digit th octopus digit be guarantee to be every bite as bad as one might imagine ! the predictable and extremely cliched plot is not worth describe in much detail substitute jaw amity island with new york and bruce the shark with a giant rubber octopus and you will get the gist although several point about the film be definitely worth mention simply because they be so funny all of the octopus attack involve the actors struggle to make incredibly fake look giant tentacles look real which be hilarious to behold bulgarias capital sofia unconvincingly stand in for new york and overuse of stock footage make the illusion even less convince best of all a silly dream sequence that see the rubber octopus attack our hero atop the statue of liberty be not only gut bustingly stupid but also feature some truly dreadful special effect davidsons script also does not know when to quit there be several point in this film at which it could have and probably should have end but the action go on and on with the octopus survive several explosions and cause a tunnel to collapse trap the film love interest and a bunch of kid before finally be blow to smithereens by the hero sometimes very silly always awful technically but never actually scary this stv stinker may find fan amongst those who actively seek out cinematic trash most normal people however would be advise to steer well clear</td>\n",
       "      <td>0</td>\n",
       "      <td>0</td>\n",
       "      <td>0</td>\n",
       "      <td>1</td>\n",
       "    </tr>\n",
       "  </tbody>\n",
       "</table>\n",
       "</div>"
      ],
      "text/plain": [
       "                                                                                                                                                                                                                                                                                                                                                                                                                                                                                                                                                                                                                                                                                                                                                                                                                                                                                                                                                                                                                                                                                                                                                                                                                                                                                                                                                                                                                                                                                                                                                                                                                                                                                                                                                                                                                                                                                                                                                                                                                                                                                               test_text  \\\n",
       "0  like many western pennsylvania history buff i have be really look forward to this much herald pbs program that be produce by pittsburghs wqed however i must say now that i be somewhat disappoint on the positive side i believe that overall this film do a fair job of explain the main issue and describe the events of the so call french and indian war in particular its presentation of the indians point of view be somewhat new and quite interest although it certainly be at time over emphasize also on the positive side the blend of narrative and action scenes be well do and come across somewhat better than many of these typical documentaries make up of experts interview and picture still a la ken burn on the negative side many of the battle do have a somewhat stag look and many important aspects of the war be overlook most of all i be very disappoint and frustrate by how little importance be give to forbess successful campaign of digit against fort duquesne as compare to the earlier failures of digit by washington and digit by braddock in particular i be somewhat incredulous that there be no mention of colonel henry bouquet the swiss mercenary in the british service who be most responsible for forbes success finally i could not believe the complete omission of the digit battle of bushy run that start as a re run of braddocks defeat but end up as the victory that decide the outcome of pontiacs war thank to the wiles of the same colonel bouquet who certainly must rank as one of the most successful british commanders of this war                                                                                                                                                                                                                                                                                                                                                                                                                                                                                               \n",
       "1  there is a brand new killer on the loose and he is do gods work yeah right ! this killer make jason voorhes look like a chump and freddy krueger look like a rag doll against this dude he be jacob goodnight wwes glen kane jacobs a digit monster who wield a axe and a hook and chain those weapons be nothing to him his real finisher be rip out eyeball from the victims sockets that be totally methodical ! when the encounter happen digit years earlier jacob kill a rookie cop and maim the veteran after put a bullet in his head how on earth do goodnight survive after digit years ? now he is in the condemn hotel call blackwell and this hotel get a lot of stories to tell i think this movie be haunt as well as interest i like the part where goodnight check out one of the girls tattoo on her back and goodnight himself be really derange thank to his maniacal mother if you think friday the digit th be something you better think again this movie will leave you on the edge of you seat and i think the eyeball rip be bone chill this movie prove it point and it was not a waste of my time i enjoy it the title do not lie ! rat digit out of digit star !                                                                                                                                                                                                                                                                                                                                                                                                                                                                                                                                                                                                                                                                                                                                                                                                                                                                                                           \n",
       "2  as if the world had not already get enough cheap jaw imitations writer boaz davidson decide to make the sequel to his ropey but reasonably enjoyable creature feature octopus a complete rip off of spielbergs classic right down to have a concern cop who no one believe and a mayor more worry about his digit th july celebrations than people live even in the hand of an extremely skilled director it be unlikely that this derivative rubbish could have be anything other than hokey b movie garbage but with yossi wein yes the yossi wein ! call the shots behind the camera a man with a fraction of mrspielbergs talent i estimate about digit digit th octopus digit be guarantee to be every bite as bad as one might imagine ! the predictable and extremely cliched plot is not worth describe in much detail substitute jaw amity island with new york and bruce the shark with a giant rubber octopus and you will get the gist although several point about the film be definitely worth mention simply because they be so funny all of the octopus attack involve the actors struggle to make incredibly fake look giant tentacles look real which be hilarious to behold bulgarias capital sofia unconvincingly stand in for new york and overuse of stock footage make the illusion even less convince best of all a silly dream sequence that see the rubber octopus attack our hero atop the statue of liberty be not only gut bustingly stupid but also feature some truly dreadful special effect davidsons script also does not know when to quit there be several point in this film at which it could have and probably should have end but the action go on and on with the octopus survive several explosions and cause a tunnel to collapse trap the film love interest and a bunch of kid before finally be blow to smithereens by the hero sometimes very silly always awful technically but never actually scary this stv stinker may find fan amongst those who actively seek out cinematic trash most normal people however would be advise to steer well clear   \n",
       "\n",
       "   true_label  LR_predict  SVM_predict  SIA_predict  \n",
       "0  0           1           1            0            \n",
       "1  1           0           0            0            \n",
       "2  0           0           0            1            "
      ]
     },
     "execution_count": 57,
     "metadata": {},
     "output_type": "execute_result"
    }
   ],
   "source": [
    "test_df = pd.DataFrame(list(zip(test_text,test_label, LR_y_pred, SVM_y_pred, sia_y_pred_test)), columns =['test_text','true_label', 'LR_predict','SVM_predict', 'SIA_predict'])\n",
    "test_df.head(3)"
   ]
  },
  {
   "cell_type": "code",
   "execution_count": 56,
   "metadata": {},
   "outputs": [
    {
     "name": "stdout",
     "output_type": "stream",
     "text": [
      "              precision    recall  f1-score   support\n",
      "\n",
      "           0       0.90      0.89      0.90     12500\n",
      "           1       0.89      0.91      0.90     12500\n",
      "\n",
      "   micro avg       0.90      0.90      0.90     25000\n",
      "   macro avg       0.90      0.90      0.90     25000\n",
      "weighted avg       0.90      0.90      0.90     25000\n",
      "\n",
      "0.89832\n"
     ]
    }
   ],
   "source": [
    "ensemble_predict = []\n",
    "for each in zip(SVM_y_pred, LR_y_pred, value):\n",
    "    if sum(each) > 1:\n",
    "        ensemble_predict.append(1)\n",
    "    else:\n",
    "        ensemble_predict.append(0)\n",
    "\n",
    "print(classification_report(test_label, ensemble_predict))\n",
    "print(balanced_accuracy_score(test_label, ensemble_predict))"
   ]
  },
  {
   "cell_type": "code",
   "execution_count": 17,
   "metadata": {},
   "outputs": [
    {
     "name": "stdout",
     "output_type": "stream",
     "text": [
      "              precision    recall  f1-score   support\n",
      "\n",
      "           0       0.74      0.79      0.76     12500\n",
      "           1       0.77      0.72      0.75     12500\n",
      "\n",
      "   micro avg       0.75      0.75      0.75     25000\n",
      "   macro avg       0.76      0.75      0.75     25000\n",
      "weighted avg       0.76      0.75      0.75     25000\n",
      "\n",
      "0.7543599999999999\n"
     ]
    }
   ],
   "source": [
    "NB_y_pred = NB_model.predict(test.toarray())\n",
    "print(\"==========Model Evalucation=========\")\n",
    "print(classification_report(test_label, NB_y_pred))\n",
    "print(\"============Test Accuracy===========\")\n",
    "print(balanced_accuracy_score(test_label, NB_y_pred))"
   ]
  },
  {
   "cell_type": "markdown",
   "metadata": {},
   "source": [
    "## FastText"
   ]
  },
  {
   "cell_type": "markdown",
   "metadata": {},
   "source": [
    "Logistic Regression"
   ]
  },
  {
   "cell_type": "code",
   "execution_count": 41,
   "metadata": {
    "collapsed": true
   },
   "outputs": [],
   "source": [
    "train = []\n",
    "with open('IMDB_train_skipgram.txt') as tr_ft:\n",
    "    for line in tr_ft.readlines():\n",
    "        train.append([float(each) for each in line.strip().split()])\n",
    "test = []\n",
    "with open('IMDB_test_skipgram.txt') as te_ft:\n",
    "    for line in te_ft.readlines():\n",
    "        test.append([float(each) for each in line.strip().split()])"
   ]
  },
  {
   "cell_type": "code",
   "execution_count": 42,
   "metadata": {},
   "outputs": [
    {
     "name": "stdout",
     "output_type": "stream",
     "text": [
      "{'C': 1, 'penalty': 'l1'}\n",
      "0.8586571799835462\n"
     ]
    }
   ],
   "source": [
    "param_grid = dict(C=[0.01, 0.1, 1], penalty =['l1','l2'])\n",
    "\n",
    "grid = GridSearchCV(LogisticRegression(), \n",
    "                    param_grid=param_grid, \n",
    "                    cv=5, \n",
    "                    scoring=['f1', 'roc_auc', 'balanced_accuracy'], \n",
    "                    refit='f1',\n",
    "                    n_jobs=-1)\n",
    "grid.fit(train, train_label)\n",
    "Fxt_LR_model = grid.best_estimator_\n",
    "print(grid.best_params_)\n",
    "print(grid.best_score_)"
   ]
  },
  {
   "cell_type": "code",
   "execution_count": 43,
   "metadata": {},
   "outputs": [
    {
     "name": "stdout",
     "output_type": "stream",
     "text": [
      "              precision    recall  f1-score   support\n",
      "\n",
      "           0       0.86      0.86      0.86     12500\n",
      "           1       0.86      0.86      0.86     12500\n",
      "\n",
      "   micro avg       0.86      0.86      0.86     25000\n",
      "   macro avg       0.86      0.86      0.86     25000\n",
      "weighted avg       0.86      0.86      0.86     25000\n",
      "\n",
      "0.8624\n"
     ]
    }
   ],
   "source": [
    "Fxt_LR_y_pred = Fxt_LR_model.predict(test)\n",
    "print(classification_report(test_label, Fxt_LR_y_pred))\n",
    "print(balanced_accuracy_score(test_label, Fxt_LR_y_pred))"
   ]
  },
  {
   "cell_type": "code",
   "execution_count": 45,
   "metadata": {},
   "outputs": [
    {
     "name": "stdout",
     "output_type": "stream",
     "text": [
      "{'C': 4, 'gamma': 1, 'kernel': 'rbf'}\n",
      "0.8671051176527236\n"
     ]
    }
   ],
   "source": [
    "param_grid = dict(gamma=[1], C=[4], kernel=[ 'rbf'])\n",
    "\n",
    "grid = GridSearchCV(SVC(), \n",
    "                    param_grid=param_grid, \n",
    "                    scoring=['f1'], \n",
    "                    refit='f1',\n",
    "                    n_jobs=-1)\n",
    "grid.fit(train, train_label)\n",
    "Fxt_SVM_model = grid.best_estimator_\n",
    "print(grid.best_params_)\n",
    "print(grid.best_score_)"
   ]
  },
  {
   "cell_type": "code",
   "execution_count": null,
   "metadata": {
    "collapsed": true
   },
   "outputs": [],
   "source": [
    "Fxt_SVM_y_pred = Fxt_SVM_model.predict(test)\n",
    "print(classification_report(test_label, Fxt_SVM_y_pred))\n",
    "print(balanced_accuracy_score(test_label, Fxt_SVM_y_pred))"
   ]
  }
 ],
 "metadata": {
  "kernelspec": {
   "display_name": "Python [conda env:py36]",
   "language": "python",
   "name": "conda-env-py36-py"
  },
  "language_info": {
   "codemirror_mode": {
    "name": "ipython",
    "version": 3
   },
   "file_extension": ".py",
   "mimetype": "text/x-python",
   "name": "python",
   "nbconvert_exporter": "python",
   "pygments_lexer": "ipython3",
   "version": "3.6.6"
  },
  "toc": {
   "base_numbering": 1,
   "nav_menu": {},
   "number_sections": true,
   "sideBar": true,
   "skip_h1_title": false,
   "title_cell": "Table of Contents",
   "title_sidebar": "Contents",
   "toc_cell": false,
   "toc_position": {},
   "toc_section_display": true,
   "toc_window_display": false
  }
 },
 "nbformat": 4,
 "nbformat_minor": 2
}
