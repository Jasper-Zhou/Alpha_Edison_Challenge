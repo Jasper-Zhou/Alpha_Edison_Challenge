{
 "cells": [
  {
   "cell_type": "code",
   "execution_count": 1,
   "metadata": {
    "_cell_guid": "b1076dfc-b9ad-4769-8c92-a6c4dae69d19",
    "_uuid": "8f2839f25d086af736a60e9eeb907d3b93b6e0e5"
   },
   "outputs": [
    {
     "name": "stderr",
     "output_type": "stream",
     "text": [
      "DEBUG:matplotlib.pyplot:Loaded backend module://ipykernel.pylab.backend_inline version unknown.\n"
     ]
    }
   ],
   "source": [
    "import re\n",
    "import os\n",
    "import gc\n",
    "import logging\n",
    "import numpy as np\n",
    "import pandas as pd\n",
    "from tqdm import tqdm\n",
    "from sklearn.utils import shuffle\n",
    "from matplotlib import pyplot as plt\n",
    "from sklearn.metrics import classification_report\n",
    "from sklearn.metrics import balanced_accuracy_score\n",
    "\n",
    "tqdm.pandas()\n",
    "logging.basicConfig(level=logging.DEBUG)"
   ]
  },
  {
   "cell_type": "code",
   "execution_count": 2,
   "metadata": {
    "_cell_guid": "79c7e3d0-c299-4dcb-8224-4455121ee9b0",
    "_uuid": "d629ff2d2480ee46fbb7e2d37f6b5fab8052498a",
    "collapsed": true
   },
   "outputs": [],
   "source": [
    "SENTIMENT_COLUMN = 'target'\n",
    "TEXT_COLUMN = 'text'\n",
    "RAW_TEXT_COLUMN = 'raw_text'"
   ]
  },
  {
   "cell_type": "code",
   "execution_count": 3,
   "metadata": {
    "collapsed": true
   },
   "outputs": [],
   "source": [
    "def read_files(path):\n",
    "    train_pos_files = os.listdir(path)\n",
    "    raw_text = []\n",
    "    for filename in train_pos_files:\n",
    "        fb = open(path+filename,'r')\n",
    "        raw_text.append(fb.readline())\n",
    "        fb.close()  \n",
    "    return raw_text"
   ]
  },
  {
   "cell_type": "code",
   "execution_count": 4,
   "metadata": {
    "collapsed": true
   },
   "outputs": [],
   "source": [
    "contraction_mapping = {\"ain't\": \"is not\", \"aren't\": \"are not\",\"can't\": \"cannot\", \"'cause\": \"because\", \"could've\": \"could have\", \"couldn't\": \"could not\", \"didn't\": \"did not\",  \"doesn't\": \"does not\", \"don't\": \"do not\", \"hadn't\": \"had not\", \"hasn't\": \"has not\", \"haven't\": \"have not\", \"he'd\": \"he would\",\"he'll\": \"he will\", \"he's\": \"he is\", \"how'd\": \"how did\", \"how'd'y\": \"how do you\", \"how'll\": \"how will\", \"how's\": \"how is\",  \"I'd\": \"I would\", \"I'd've\": \"I would have\", \"I'll\": \"I will\", \"I'll've\": \"I will have\",\"I'm\": \"I am\", \"I've\": \"I have\", \"i'd\": \"i would\", \"i'd've\": \"i would have\", \"i'll\": \"i will\",  \"i'll've\": \"i will have\",\"i'm\": \"i am\", \"i've\": \"i have\", \"isn't\": \"is not\", \"it'd\": \"it would\", \"it'd've\": \"it would have\", \"it'll\": \"it will\", \"it'll've\": \"it will have\",\"it's\": \"it is\", \"let's\": \"let us\", \"ma'am\": \"madam\", \"mayn't\": \"may not\", \"might've\": \"might have\",\"mightn't\": \"might not\",\"mightn't've\": \"might not have\", \"must've\": \"must have\", \"mustn't\": \"must not\", \"mustn't've\": \"must not have\", \"needn't\": \"need not\", \"needn't've\": \"need not have\",\"o'clock\": \"of the clock\", \"oughtn't\": \"ought not\", \"oughtn't've\": \"ought not have\", \"shan't\": \"shall not\", \"sha'n't\": \"shall not\", \"shan't've\": \"shall not have\", \"she'd\": \"she would\", \"she'd've\": \"she would have\", \"she'll\": \"she will\", \"she'll've\": \"she will have\", \"she's\": \"she is\", \"should've\": \"should have\", \"shouldn't\": \"should not\", \"shouldn't've\": \"should not have\", \"so've\": \"so have\",\"so's\": \"so as\", \"this's\": \"this is\",\"that'd\": \"that would\", \"that'd've\": \"that would have\", \"that's\": \"that is\", \"there'd\": \"there would\", \"there'd've\": \"there would have\", \"there's\": \"there is\", \"here's\": \"here is\",\"they'd\": \"they would\", \"they'd've\": \"they would have\", \"they'll\": \"they will\", \"they'll've\": \"they will have\", \"they're\": \"they are\", \"they've\": \"they have\", \"to've\": \"to have\", \"wasn't\": \"was not\", \"we'd\": \"we would\", \"we'd've\": \"we would have\", \"we'll\": \"we will\", \"we'll've\": \"we will have\", \"we're\": \"we are\", \"we've\": \"we have\", \"weren't\": \"were not\", \"what'll\": \"what will\", \"what'll've\": \"what will have\", \"what're\": \"what are\",  \"what's\": \"what is\", \"what've\": \"what have\", \"when's\": \"when is\", \"when've\": \"when have\", \"where'd\": \"where did\", \"where's\": \"where is\", \"where've\": \"where have\", \"who'll\": \"who will\", \"who'll've\": \"who will have\", \"who's\": \"who is\", \"who've\": \"who have\", \"why's\": \"why is\", \"why've\": \"why have\", \"will've\": \"will have\", \"won't\": \"will not\", \"won't've\": \"will not have\", \"would've\": \"would have\", \"wouldn't\": \"would not\", \"wouldn't've\": \"would not have\", \"y'all\": \"you all\", \"y'all'd\": \"you all would\",\"y'all'd've\": \"you all would have\",\"y'all're\": \"you all are\",\"y'all've\": \"you all have\",\"you'd\": \"you would\", \"you'd've\": \"you would have\", \"you'll\": \"you will\", \"you'll've\": \"you will have\", \"you're\": \"you are\", \"you've\": \"you have\" }\n",
    "def normalize(words):\n",
    "    word_list = []\n",
    "    for word in words:\n",
    "        \"\"\"Remove non-ASCII characters from list of tokenized words\"\"\"\n",
    "        new_word = unicodedata.normalize('NFKD', word).encode('ascii', 'ignore').decode('utf-8', 'ignore')\n",
    "        \"\"\"Convert all characters to lowercase from list of tokenized words\"\"\"\n",
    "        new_word = new_word.lower()\n",
    "        \"\"\"Remove punctuation except for \"?\" and \"!\" from list of tokenized words\"\"\"\n",
    "        if contraction_mapping.__contains__(new_word):\n",
    "            new_word = contraction_mapping[new_word]\n",
    "        new_word = re.sub(r'[^\\w\\s!?]', '', new_word)\n",
    "        \"\"\"Lemmatize verbs in list of tokenized words\"\"\"\n",
    "        lemmatizer = WordNetLemmatizer()\n",
    "        new_word = lemmatizer.lemmatize(new_word, pos='v')\n",
    "        \"\"\"Replace all interger occurrences in list of tokenized words with textual representation\"\"\"\n",
    "        if new_word.isdigit():\n",
    "            new_word = 'digit'\n",
    "        if new_word != '':\n",
    "            word_list.append(new_word)\n",
    "    return word_list"
   ]
  },
  {
   "cell_type": "code",
   "execution_count": 5,
   "metadata": {
    "collapsed": true
   },
   "outputs": [],
   "source": [
    "# read all train data\n",
    "train_pos = read_files('./aclImdb/train/pos/')\n",
    "train_neg = read_files('./aclImdb/train/neg/')\n",
    "raw_train_text = train_pos + train_neg\n",
    "train_label = [1] * len(train_pos) + [0] * len(train_neg)\n",
    "raw_train_text, train_label = shuffle(raw_train_text, train_label, random_state=0)\n",
    "\n",
    "# read all test data\n",
    "test_pos = read_files('./aclImdb/test/pos/')\n",
    "test_neg = read_files('./aclImdb/test/neg/')\n",
    "raw_test_text = test_pos + test_neg\n",
    "test_label = [1] * len(test_pos) + [0] * len(test_neg)\n",
    "raw_test_text, test_label = shuffle(raw_test_text, test_label, random_state=0)\n",
    "\n",
    "raw_corpus_text = raw_train_text + raw_test_text"
   ]
  },
  {
   "cell_type": "code",
   "execution_count": 6,
   "metadata": {
    "collapsed": true
   },
   "outputs": [],
   "source": [
    "from nltk.stem import WordNetLemmatizer\n",
    "from tokenizer import tokenize\n",
    "import re, unicodedata, inflect\n",
    "train_text = []\n",
    "for each in raw_train_text:\n",
    "    tmp = each.replace('-', ' ').replace('<br />',\"\")\n",
    "    train_text.append(\"\".join(word + ' ' for word in normalize([word.txt for word in tokenize(tmp) if word.txt != None])).strip())\n",
    "test_text = []\n",
    "for each in raw_test_text:\n",
    "    tmp = each.replace('-', ' ').replace('<br />',\"\")\n",
    "    test_text.append(\"\".join(word + ' ' for word in normalize([word.txt for word in tokenize(tmp) if word.txt != None])).strip())\n",
    "processed_corpus_text = train_text + test_text"
   ]
  },
  {
   "cell_type": "code",
   "execution_count": 7,
   "metadata": {},
   "outputs": [
    {
     "name": "stderr",
     "output_type": "stream",
     "text": [
      "DEBUG:matplotlib.axes._base:update_title_pos\n",
      "DEBUG:matplotlib.font_manager:findfont: Matching :family=sans-serif:style=normal:variant=normal:weight=normal:stretch=normal:size=10.0 to DejaVu Sans ('/Users/jianhenghou/anaconda2/envs/py36/lib/python3.6/site-packages/matplotlib/mpl-data/fonts/ttf/DejaVuSans.ttf') with score of 0.050000.\n",
      "DEBUG:matplotlib.font_manager:findfont: Matching :family=sans-serif:style=normal:variant=normal:weight=normal:stretch=normal:size=12.0 to DejaVu Sans ('/Users/jianhenghou/anaconda2/envs/py36/lib/python3.6/site-packages/matplotlib/mpl-data/fonts/ttf/DejaVuSans.ttf') with score of 0.050000.\n",
      "DEBUG:matplotlib.axes._base:update_title_pos\n",
      "DEBUG:matplotlib.axes._base:update_title_pos\n",
      "DEBUG:matplotlib.axes._base:update_title_pos\n"
     ]
    },
    {
     "data": {
      "image/png": "[encoded data removed]",
      "text/plain": [
       "<Figure size 432x288 with 1 Axes>"
      ]
     },
     "metadata": {
      "needs_background": "light"
     },
     "output_type": "display_data"
    }
   ],
   "source": [
    "count = [len(review.split()) for review in raw_train_text]\n",
    "plt.title('Histagram of length of reviews')\n",
    "plt.xlabel('the length of review')\n",
    "plt.ylabel('count')\n",
    "plt.hist(count)\n",
    "plt.show()"
   ]
  },
  {
   "cell_type": "code",
   "execution_count": 8,
   "metadata": {
    "collapsed": true
   },
   "outputs": [],
   "source": [
    "MAX_SEQUENCE_LEN = 512\n",
    "MAX_FEATURES = 100000"
   ]
  },
  {
   "cell_type": "code",
   "execution_count": 9,
   "metadata": {},
   "outputs": [
    {
     "name": "stderr",
     "output_type": "stream",
     "text": [
      "Using TensorFlow backend.\n"
     ]
    }
   ],
   "source": [
    "\"\"\"\n",
    "Load data\n",
    "\"\"\"\n",
    "\n",
    "from keras.preprocessing.text import Tokenizer\n",
    "from keras.preprocessing.sequence import pad_sequences\n",
    "\n",
    "train = pd.DataFrame(list(zip(raw_train_text,train_text, train_label)), columns =[RAW_TEXT_COLUMN,TEXT_COLUMN, SENTIMENT_COLUMN])\n",
    "test = pd.DataFrame(list(zip(raw_test_text,test_text, test_label)), columns =[RAW_TEXT_COLUMN,TEXT_COLUMN, SENTIMENT_COLUMN])\n",
    "train_label = train[SENTIMENT_COLUMN]"
   ]
  },
  {
   "cell_type": "code",
   "execution_count": 13,
   "metadata": {},
   "outputs": [
    {
     "name": "stderr",
     "output_type": "stream",
     "text": [
      "INFO:root:Fitting Tokenizer\n",
      "INFO:root:Beginning process train text\n"
     ]
    }
   ],
   "source": [
    "\"\"\"\n",
    "Fit tokenizer\n",
    "\"\"\"\n",
    "\n",
    "logging.info(\"Fitting Tokenizer\")\n",
    "\n",
    "tokenizer = Tokenizer(num_words=MAX_FEATURES, lower=True)\n",
    "# Updates internal vocabulary based on a list of texts\n",
    "tokenizer.fit_on_texts(list(train[TEXT_COLUMN]) + list(test[TEXT_COLUMN]))\n",
    "\n",
    "logging.info(\"Beginning process train text\")\n",
    "train_text = tokenizer.texts_to_sequences(list(train[TEXT_COLUMN]))\n",
    "train_text = pad_sequences(train_text, maxlen=MAX_SEQUENCE_LEN)\n",
    "\n",
    "logging.info(\"Beginning process test text\")\n",
    "test_text = tokenizer.texts_to_sequences(list(test[TEXT_COLUMN]))\n",
    "test_text = pad_sequences(test_text, maxlen=MAX_SEQUENCE_LEN)"
   ]
  },
  {
   "cell_type": "code",
   "execution_count": 14,
   "metadata": {},
   "outputs": [
    {
     "data": {
      "text/plain": [
       "0"
      ]
     },
     "execution_count": 14,
     "metadata": {},
     "output_type": "execute_result"
    }
   ],
   "source": [
    "word_index = tokenizer.word_index\n",
    "del tokenizer\n",
    "gc.collect()"
   ]
  },
  {
   "cell_type": "code",
   "execution_count": 15,
   "metadata": {
    "collapsed": true
   },
   "outputs": [],
   "source": [
    "\"\"\"\n",
    "Get word Embedding\n",
    "\"\"\"\n",
    "\n",
    "EMB_PATH = \"skipgram_model_IMDB.vec\"\n",
    "EMBEDDING_DIM = 300\n",
    "\n",
    "def get_coefs(word,*arr):\n",
    "    return word, np.asarray(arr, dtype='float32')\n",
    "\n",
    "def load_embeddings(embed_dir=EMB_PATH):\n",
    "    embedding_index = dict(get_coefs(*o.strip().split(\" \")) for o in tqdm(open(embed_dir)))\n",
    "    return embedding_index\n",
    "\n",
    "def build_matrix(word_index, embeddings_index):\n",
    "    embedding_matrix = np.zeros((len(word_index) + 1,EMBEDDING_DIM))\n",
    "    for word, i in word_index.items():\n",
    "        try:\n",
    "            embedding_matrix[i] = embeddings_index[word]\n",
    "        except:\n",
    "            embedding_matrix[i] = embeddings_index[\"unknown\"]\n",
    "    return embedding_matrix"
   ]
  },
  {
   "cell_type": "code",
   "execution_count": 16,
   "metadata": {},
   "outputs": [
    {
     "name": "stderr",
     "output_type": "stream",
     "text": [
      "76832it [00:05, 14635.25it/s]\n"
     ]
    },
    {
     "data": {
      "text/plain": [
       "0"
      ]
     },
     "execution_count": 16,
     "metadata": {},
     "output_type": "execute_result"
    }
   ],
   "source": [
    "embeddings_index = load_embeddings()\n",
    "embedding_matrix = build_matrix(word_index, embeddings_index)\n",
    "del embeddings_index\n",
    "gc.collect()"
   ]
  },
  {
   "cell_type": "code",
   "execution_count": 20,
   "metadata": {
    "collapsed": true
   },
   "outputs": [],
   "source": [
    "\"\"\"\n",
    "Attention model\n",
    "\"\"\"\n",
    "\n",
    "\n",
    "from keras.engine.topology import Layer\n",
    "from keras import initializers, regularizers, constraints, optimizers, layers\n",
    "\n",
    "class Attention(Layer):\n",
    "    def __init__(self, step_dim,\n",
    "                 W_regularizer=None, b_regularizer=None,\n",
    "                 W_constraint=None, b_constraint=None,\n",
    "                 bias=True, **kwargs):\n",
    "        self.supports_masking = True\n",
    "        self.init = initializers.get('glorot_uniform')\n",
    "        \n",
    "        self.W_regularizer = regularizers.get(W_regularizer)\n",
    "        self.b_regularizer = regularizers.get(b_regularizer)\n",
    "\n",
    "        self.W_constraint = constraints.get(W_constraint)\n",
    "        self.b_constraint = constraints.get(b_constraint)\n",
    "\n",
    "        self.bias = bias\n",
    "        self.step_dim = step_dim\n",
    "        self.features_dim = 0\n",
    "        super(Attention, self).__init__(**kwargs)\n",
    "    \n",
    "    def build(self, input_shape):\n",
    "        assert len(input_shape) == 3\n",
    "        \n",
    "        self.W = self.add_weight((input_shape[-1],),\n",
    "                                 initializer = self.init,\n",
    "                                 name = '{}_W'.format(self.name),\n",
    "                                 regularizer = self.W_regularizer,\n",
    "                                 constraint = self.W_constraint)\n",
    "        self.features_dim = input_shape[-1]\n",
    "        \n",
    "        if self.bias:\n",
    "            self.b = self.add_weight((input_shape[1],),\n",
    "                                     initializer = 'zero',\n",
    "                                     name = '{}_b'.format(self.name),\n",
    "                                     regularizer = self.b_regularizer,\n",
    "                                     constraint = self.b_constraint)\n",
    "        else:\n",
    "            self.b = None\n",
    "        \n",
    "        self.built = True\n",
    "    \n",
    "    def compute_mask(self, input, input_mask=None):\n",
    "        return None\n",
    "    \n",
    "    def call(self, x, mask=None):\n",
    "        features_dim = self.features_dim\n",
    "        step_dim = self.step_dim\n",
    "        \n",
    "        e_ij = K.reshape(K.dot(\n",
    "                            K.reshape(x, (-1, features_dim)),\n",
    "                            K.reshape(self.W, (features_dim, 1))\n",
    "                    ), (-1, step_dim))\n",
    "        if self.bias:\n",
    "            e_ij += self.b\n",
    "        \n",
    "        e_ij = K.tanh(e_ij)\n",
    "        \n",
    "        a = K.exp(e_ij)\n",
    "        if mask is not None:\n",
    "            a *= K.cast(mask, K.floatx())\n",
    "        \n",
    "        a /= K.cast(K.sum(a, axis=1, keepdims=True) + K.epsilon(),\n",
    "                    K.floatx())\n",
    "        a = K.expand_dims(a)\n",
    "        weighted_input = x * a\n",
    "        return K.sum(weighted_input, axis=1)\n",
    "    \n",
    "    def compute_output_shape(self, input_shape):\n",
    "        return input_shape[0], self.features_dim"
   ]
  },
  {
   "cell_type": "code",
   "execution_count": 21,
   "metadata": {
    "collapsed": true
   },
   "outputs": [],
   "source": [
    "\"\"\"\n",
    "Model builder\n",
    "\"\"\"\n",
    "\n",
    "from keras.layers import SpatialDropout1D, Bidirectional, Dense, LSTM\n",
    "from keras.layers import GlobalAveragePooling1D, GlobalMaxPooling1D, Conv1D\n",
    "from keras.layers import concatenate\n",
    "from keras.layers import Input, Embedding, Concatenate\n",
    "from keras.models import Model\n",
    "from keras.optimizers import Adam\n",
    "\n",
    "def build_model(verbose = False, compile = True):\n",
    "    sequence_input = Input(shape=(MAX_SEQUENCE_LEN,), dtype='int32')\n",
    "    embedding_layer = Embedding(len(word_index) + 1,\n",
    "                                EMBEDDING_DIM,\n",
    "                                weights=[embedding_matrix],\n",
    "                                input_length=MAX_SEQUENCE_LEN,\n",
    "                                trainable=False)\n",
    "    \n",
    "    x = embedding_layer(sequence_input)\n",
    "    x = SpatialDropout1D(0.2)(x)        \n",
    "    x = Bidirectional(LSTM(64, return_sequences=True))(x)\n",
    "    \n",
    "    attention = Attention(MAX_SEQUENCE_LEN)(x)\n",
    "    conv = Conv1D(64, kernel_size = 2, padding = \"valid\", kernel_initializer = \"he_uniform\")(x)\n",
    "    avg_pool1 = GlobalAveragePooling1D()(conv)\n",
    "    max_pool1 = GlobalMaxPooling1D()(conv)\n",
    "    \n",
    "    # version2\n",
    "    avg_pool2 = GlobalAveragePooling1D()(x)\n",
    "    max_pool2 = GlobalMaxPooling1D()(x)\n",
    "\n",
    "    \n",
    "    x = concatenate([attention, \n",
    "                     avg_pool1, max_pool1, \n",
    "                     avg_pool2, max_pool2])\n",
    "    preds = Dense(1, activation='sigmoid')(x)\n",
    "    \n",
    "    model = Model(sequence_input, preds)\n",
    "    if verbose:\n",
    "        model.summary()\n",
    "    if compile:\n",
    "        model.compile(loss='binary_crossentropy',\n",
    "                      optimizer=Adam(0.005),\n",
    "                      metrics=['acc'])\n",
    "    return model"
   ]
  },
  {
   "cell_type": "code",
   "execution_count": 22,
   "metadata": {},
   "outputs": [
    {
     "name": "stdout",
     "output_type": "stream",
     "text": [
      "__________________________________________________________________________________________________\n",
      "Layer (type)                    Output Shape         Param #     Connected to                     \n",
      "==================================================================================================\n",
      "input_2 (InputLayer)            (None, 512)          0                                            \n",
      "__________________________________________________________________________________________________\n",
      "embedding_2 (Embedding)         (None, 512, 300)     30914400    input_2[0][0]                    \n",
      "__________________________________________________________________________________________________\n",
      "spatial_dropout1d_2 (SpatialDro (None, 512, 300)     0           embedding_2[0][0]                \n",
      "__________________________________________________________________________________________________\n",
      "bidirectional_2 (Bidirectional) (None, 512, 128)     186880      spatial_dropout1d_2[0][0]        \n",
      "__________________________________________________________________________________________________\n",
      "conv1d_1 (Conv1D)               (None, 511, 64)      16448       bidirectional_2[0][0]            \n",
      "__________________________________________________________________________________________________\n",
      "attention_2 (Attention)         (None, 128)          640         bidirectional_2[0][0]            \n",
      "__________________________________________________________________________________________________\n",
      "global_average_pooling1d_1 (Glo (None, 64)           0           conv1d_1[0][0]                   \n",
      "__________________________________________________________________________________________________\n",
      "global_max_pooling1d_1 (GlobalM (None, 64)           0           conv1d_1[0][0]                   \n",
      "__________________________________________________________________________________________________\n",
      "global_average_pooling1d_2 (Glo (None, 128)          0           bidirectional_2[0][0]            \n",
      "__________________________________________________________________________________________________\n",
      "global_max_pooling1d_2 (GlobalM (None, 128)          0           bidirectional_2[0][0]            \n",
      "__________________________________________________________________________________________________\n",
      "concatenate_1 (Concatenate)     (None, 512)          0           attention_2[0][0]                \n",
      "                                                                 global_average_pooling1d_1[0][0] \n",
      "                                                                 global_max_pooling1d_1[0][0]     \n",
      "                                                                 global_average_pooling1d_2[0][0] \n",
      "                                                                 global_max_pooling1d_2[0][0]     \n",
      "__________________________________________________________________________________________________\n",
      "dense_1 (Dense)                 (None, 1)            513         concatenate_1[0][0]              \n",
      "==================================================================================================\n",
      "Total params: 31,118,881\n",
      "Trainable params: 204,481\n",
      "Non-trainable params: 30,914,400\n",
      "__________________________________________________________________________________________________\n"
     ]
    }
   ],
   "source": [
    "model = build_model()\n",
    "model.summary()"
   ]
  },
  {
   "cell_type": "code",
   "execution_count": 23,
   "metadata": {},
   "outputs": [
    {
     "name": "stderr",
     "output_type": "stream",
     "text": [
      "WARNING:tensorflow:From /Users/jianhenghou/anaconda2/envs/py36/lib/python3.6/site-packages/tensorflow/python/ops/math_ops.py:3066: to_int32 (from tensorflow.python.ops.math_ops) is deprecated and will be removed in a future version.\n",
      "Instructions for updating:\n",
      "Use tf.cast instead.\n",
      "WARNING:tensorflow:From /Users/jianhenghou/anaconda2/envs/py36/lib/python3.6/site-packages/tensorflow/python/ops/math_grad.py:102: div (from tensorflow.python.ops.math_ops) is deprecated and will be removed in a future version.\n",
      "Instructions for updating:\n",
      "Deprecated in favor of operator or tf.math.divide.\n"
     ]
    },
    {
     "name": "stdout",
     "output_type": "stream",
     "text": [
      "Train on 20000 samples, validate on 5000 samples\n",
      "Epoch 1/100\n",
      "20000/20000 [==============================] - 249s 12ms/step - loss: 0.6908 - acc: 0.5615 - val_loss: 0.6147 - val_acc: 0.7346\n",
      "Epoch 2/100\n",
      "20000/20000 [==============================] - 222s 11ms/step - loss: 0.4891 - acc: 0.7897 - val_loss: 0.3699 - val_acc: 0.8354\n",
      "Epoch 3/100\n",
      "20000/20000 [==============================] - 196s 10ms/step - loss: 0.3728 - acc: 0.8328 - val_loss: 0.3338 - val_acc: 0.8558\n",
      "Epoch 4/100\n",
      "20000/20000 [==============================] - 197s 10ms/step - loss: 0.3363 - acc: 0.8541 - val_loss: 0.3093 - val_acc: 0.8698\n",
      "Epoch 5/100\n",
      "20000/20000 [==============================] - 202s 10ms/step - loss: 0.3118 - acc: 0.8672 - val_loss: 0.2910 - val_acc: 0.8780\n",
      "Epoch 6/100\n",
      "20000/20000 [==============================] - 211s 11ms/step - loss: 0.2810 - acc: 0.8806 - val_loss: 0.2782 - val_acc: 0.8856\n",
      "Epoch 7/100\n",
      "20000/20000 [==============================] - 202s 10ms/step - loss: 0.2596 - acc: 0.8946 - val_loss: 0.2593 - val_acc: 0.8916\n",
      "Epoch 8/100\n",
      "20000/20000 [==============================] - 200s 10ms/step - loss: 0.2447 - acc: 0.9004 - val_loss: 0.2687 - val_acc: 0.8902\n",
      "Epoch 9/100\n",
      "20000/20000 [==============================] - 199s 10ms/step - loss: 0.2310 - acc: 0.9075 - val_loss: 0.2735 - val_acc: 0.8846\n",
      "Epoch 10/100\n",
      "20000/20000 [==============================] - 214s 11ms/step - loss: 0.2232 - acc: 0.9098 - val_loss: 0.2463 - val_acc: 0.8982\n",
      "Epoch 11/100\n",
      "20000/20000 [==============================] - 210s 10ms/step - loss: 0.2020 - acc: 0.9195 - val_loss: 0.2693 - val_acc: 0.8896\n",
      "Epoch 12/100\n",
      "20000/20000 [==============================] - 203s 10ms/step - loss: 0.1920 - acc: 0.9227 - val_loss: 0.2479 - val_acc: 0.9022\n",
      "Epoch 13/100\n",
      "20000/20000 [==============================] - 207s 10ms/step - loss: 0.1779 - acc: 0.9315 - val_loss: 0.2380 - val_acc: 0.9058\n",
      "Epoch 14/100\n",
      "20000/20000 [==============================] - 201s 10ms/step - loss: 0.1688 - acc: 0.9333 - val_loss: 0.2468 - val_acc: 0.9030\n",
      "Epoch 15/100\n",
      "20000/20000 [==============================] - 194s 10ms/step - loss: 0.1541 - acc: 0.9407 - val_loss: 0.2392 - val_acc: 0.9060\n",
      "Epoch 16/100\n",
      "20000/20000 [==============================] - 193s 10ms/step - loss: 0.1416 - acc: 0.9466 - val_loss: 0.2460 - val_acc: 0.9090\n",
      "Epoch 00016: early stopping\n",
      "Train on 20000 samples, validate on 5000 samples\n",
      "Epoch 1/100\n",
      "20000/20000 [==============================] - 196s 10ms/step - loss: 0.6939 - acc: 0.5584 - val_loss: 0.6319 - val_acc: 0.6600\n",
      "Epoch 2/100\n",
      "20000/20000 [==============================] - 200s 10ms/step - loss: 0.4966 - acc: 0.7794 - val_loss: 0.3926 - val_acc: 0.8266\n",
      "Epoch 3/100\n",
      "20000/20000 [==============================] - 208s 10ms/step - loss: 0.3852 - acc: 0.8287 - val_loss: 0.3640 - val_acc: 0.8450\n",
      "Epoch 4/100\n",
      "20000/20000 [==============================] - 221s 11ms/step - loss: 0.3293 - acc: 0.8563 - val_loss: 0.3100 - val_acc: 0.8674\n",
      "Epoch 5/100\n",
      "20000/20000 [==============================] - 206s 10ms/step - loss: 0.3072 - acc: 0.8712 - val_loss: 0.3292 - val_acc: 0.8598\n",
      "Epoch 6/100\n",
      "20000/20000 [==============================] - 208s 10ms/step - loss: 0.2870 - acc: 0.8772 - val_loss: 0.2873 - val_acc: 0.8812\n",
      "Epoch 7/100\n",
      "20000/20000 [==============================] - 196s 10ms/step - loss: 0.2633 - acc: 0.8892 - val_loss: 0.2889 - val_acc: 0.8776\n",
      "Epoch 8/100\n",
      "20000/20000 [==============================] - 208s 10ms/step - loss: 0.2464 - acc: 0.8996 - val_loss: 0.2698 - val_acc: 0.8924\n",
      "Epoch 9/100\n",
      "20000/20000 [==============================] - 197s 10ms/step - loss: 0.2270 - acc: 0.9082 - val_loss: 0.2728 - val_acc: 0.8948\n",
      "Epoch 10/100\n",
      "20000/20000 [==============================] - 194s 10ms/step - loss: 0.2214 - acc: 0.9105 - val_loss: 0.2856 - val_acc: 0.8822\n",
      "Epoch 11/100\n",
      "20000/20000 [==============================] - 192s 10ms/step - loss: 0.2131 - acc: 0.9124 - val_loss: 0.2605 - val_acc: 0.8948\n",
      "Epoch 12/100\n",
      "20000/20000 [==============================] - 192s 10ms/step - loss: 0.1921 - acc: 0.9228 - val_loss: 0.2596 - val_acc: 0.8960\n",
      "Epoch 13/100\n",
      "20000/20000 [==============================] - 193s 10ms/step - loss: 0.1820 - acc: 0.9300 - val_loss: 0.2776 - val_acc: 0.8918\n",
      "Epoch 14/100\n",
      "20000/20000 [==============================] - 202s 10ms/step - loss: 0.1832 - acc: 0.9266 - val_loss: 0.2777 - val_acc: 0.8912\n",
      "Epoch 15/100\n",
      "20000/20000 [==============================] - 198s 10ms/step - loss: 0.1669 - acc: 0.9334 - val_loss: 0.2667 - val_acc: 0.8958\n",
      "Epoch 00015: early stopping\n",
      "Train on 20000 samples, validate on 5000 samples\n",
      "Epoch 1/100\n",
      "20000/20000 [==============================] - 208s 10ms/step - loss: 0.6771 - acc: 0.5985 - val_loss: 0.5478 - val_acc: 0.8104\n",
      "Epoch 2/100\n",
      "20000/20000 [==============================] - 262s 13ms/step - loss: 0.4666 - acc: 0.7894 - val_loss: 0.4039 - val_acc: 0.8180\n",
      "Epoch 3/100\n",
      "20000/20000 [==============================] - 222s 11ms/step - loss: 0.3756 - acc: 0.8345 - val_loss: 0.3346 - val_acc: 0.8560\n",
      "Epoch 4/100\n",
      "20000/20000 [==============================] - 204s 10ms/step - loss: 0.3378 - acc: 0.8520 - val_loss: 0.2985 - val_acc: 0.8742\n",
      "Epoch 5/100\n",
      "20000/20000 [==============================] - 203s 10ms/step - loss: 0.3031 - acc: 0.8701 - val_loss: 0.2826 - val_acc: 0.8842\n",
      "Epoch 6/100\n",
      "20000/20000 [==============================] - 207s 10ms/step - loss: 0.2877 - acc: 0.8782 - val_loss: 0.2834 - val_acc: 0.8816\n",
      "Epoch 7/100\n",
      "20000/20000 [==============================] - 210s 11ms/step - loss: 0.2630 - acc: 0.8902 - val_loss: 0.2565 - val_acc: 0.8956\n",
      "Epoch 8/100\n",
      "20000/20000 [==============================] - 238s 12ms/step - loss: 0.2537 - acc: 0.8943 - val_loss: 0.2661 - val_acc: 0.8908\n",
      "Epoch 9/100\n",
      "20000/20000 [==============================] - 219s 11ms/step - loss: 0.2436 - acc: 0.8988 - val_loss: 0.2454 - val_acc: 0.8984\n",
      "Epoch 10/100\n",
      "20000/20000 [==============================] - 216s 11ms/step - loss: 0.2302 - acc: 0.9063 - val_loss: 0.2465 - val_acc: 0.9002\n",
      "Epoch 11/100\n",
      "20000/20000 [==============================] - 202s 10ms/step - loss: 0.2142 - acc: 0.9140 - val_loss: 0.2421 - val_acc: 0.9034\n",
      "Epoch 12/100\n",
      "20000/20000 [==============================] - 205s 10ms/step - loss: 0.2034 - acc: 0.9202 - val_loss: 0.2374 - val_acc: 0.9088\n",
      "Epoch 13/100\n",
      "20000/20000 [==============================] - 215s 11ms/step - loss: 0.2064 - acc: 0.9162 - val_loss: 0.2605 - val_acc: 0.8942\n",
      "Epoch 14/100\n",
      "20000/20000 [==============================] - 203s 10ms/step - loss: 0.1926 - acc: 0.9253 - val_loss: 0.2436 - val_acc: 0.9068\n",
      "Epoch 15/100\n",
      "20000/20000 [==============================] - 204s 10ms/step - loss: 0.1723 - acc: 0.9348 - val_loss: 0.2360 - val_acc: 0.9078\n",
      "Epoch 16/100\n",
      "20000/20000 [==============================] - 204s 10ms/step - loss: 0.1635 - acc: 0.9367 - val_loss: 0.2317 - val_acc: 0.9104\n",
      "Epoch 17/100\n",
      "20000/20000 [==============================] - 205s 10ms/step - loss: 0.1502 - acc: 0.9421 - val_loss: 0.2327 - val_acc: 0.9122\n",
      "Epoch 18/100\n",
      "20000/20000 [==============================] - 196s 10ms/step - loss: 0.1424 - acc: 0.9445 - val_loss: 0.2455 - val_acc: 0.9054\n",
      "Epoch 19/100\n",
      "20000/20000 [==============================] - 194s 10ms/step - loss: 0.1302 - acc: 0.9485 - val_loss: 0.2430 - val_acc: 0.9082\n",
      "Epoch 00019: early stopping\n",
      "Train on 20000 samples, validate on 5000 samples\n",
      "Epoch 1/100\n",
      "20000/20000 [==============================] - 210s 10ms/step - loss: 0.6360 - acc: 0.6346 - val_loss: 0.4728 - val_acc: 0.7788\n",
      "Epoch 2/100\n",
      "20000/20000 [==============================] - 204s 10ms/step - loss: 0.4260 - acc: 0.8094 - val_loss: 0.3474 - val_acc: 0.8444\n",
      "Epoch 3/100\n",
      "20000/20000 [==============================] - 208s 10ms/step - loss: 0.3513 - acc: 0.8467 - val_loss: 0.3111 - val_acc: 0.8616\n",
      "Epoch 4/100\n",
      "20000/20000 [==============================] - 209s 10ms/step - loss: 0.3136 - acc: 0.8670 - val_loss: 0.2863 - val_acc: 0.8782\n",
      "Epoch 5/100\n",
      "20000/20000 [==============================] - 205s 10ms/step - loss: 0.2843 - acc: 0.8798 - val_loss: 0.2728 - val_acc: 0.8808\n",
      "Epoch 6/100\n",
      "20000/20000 [==============================] - 212s 11ms/step - loss: 0.2589 - acc: 0.8940 - val_loss: 0.2662 - val_acc: 0.8846\n",
      "Epoch 7/100\n",
      "20000/20000 [==============================] - 217s 11ms/step - loss: 0.2484 - acc: 0.8987 - val_loss: 0.2552 - val_acc: 0.8938\n",
      "Epoch 8/100\n",
      "20000/20000 [==============================] - 208s 10ms/step - loss: 0.2358 - acc: 0.9051 - val_loss: 0.2497 - val_acc: 0.8924\n",
      "Epoch 9/100\n",
      "20000/20000 [==============================] - 217s 11ms/step - loss: 0.2198 - acc: 0.9117 - val_loss: 0.2469 - val_acc: 0.8936\n",
      "Epoch 10/100\n",
      "20000/20000 [==============================] - 220s 11ms/step - loss: 0.2070 - acc: 0.9173 - val_loss: 0.2527 - val_acc: 0.8968\n",
      "Epoch 11/100\n",
      "20000/20000 [==============================] - 219s 11ms/step - loss: 0.2004 - acc: 0.9222 - val_loss: 0.2424 - val_acc: 0.8976\n",
      "Epoch 12/100\n",
      "20000/20000 [==============================] - 207s 10ms/step - loss: 0.1779 - acc: 0.9310 - val_loss: 0.2554 - val_acc: 0.8994\n",
      "Epoch 13/100\n",
      "20000/20000 [==============================] - 207s 10ms/step - loss: 0.1701 - acc: 0.9355 - val_loss: 0.2533 - val_acc: 0.8984\n",
      "Epoch 14/100\n",
      "20000/20000 [==============================] - 211s 11ms/step - loss: 0.1660 - acc: 0.9358 - val_loss: 0.2751 - val_acc: 0.8872\n",
      "Epoch 00014: early stopping\n",
      "Train on 20000 samples, validate on 5000 samples\n",
      "Epoch 1/100\n",
      "20000/20000 [==============================] - 242s 12ms/step - loss: 0.6993 - acc: 0.5607 - val_loss: 0.6223 - val_acc: 0.7454\n",
      "Epoch 2/100\n",
      "20000/20000 [==============================] - 220s 11ms/step - loss: 0.5194 - acc: 0.7765 - val_loss: 0.4453 - val_acc: 0.7968\n",
      "Epoch 3/100\n",
      "20000/20000 [==============================] - 221s 11ms/step - loss: 0.4032 - acc: 0.8215 - val_loss: 0.3622 - val_acc: 0.8388\n",
      "Epoch 4/100\n",
      "20000/20000 [==============================] - 203s 10ms/step - loss: 0.3488 - acc: 0.8506 - val_loss: 0.3166 - val_acc: 0.8596\n",
      "Epoch 5/100\n",
      "20000/20000 [==============================] - 236s 12ms/step - loss: 0.3207 - acc: 0.8628 - val_loss: 0.3004 - val_acc: 0.8670\n",
      "Epoch 6/100\n",
      "20000/20000 [==============================] - 216s 11ms/step - loss: 0.3004 - acc: 0.8730 - val_loss: 0.2760 - val_acc: 0.8822\n",
      "Epoch 7/100\n",
      "20000/20000 [==============================] - 213s 11ms/step - loss: 0.2859 - acc: 0.8794 - val_loss: 0.2659 - val_acc: 0.8884\n",
      "Epoch 8/100\n",
      "20000/20000 [==============================] - 218s 11ms/step - loss: 0.2666 - acc: 0.8906 - val_loss: 0.2547 - val_acc: 0.8922\n",
      "Epoch 9/100\n",
      "20000/20000 [==============================] - 216s 11ms/step - loss: 0.2498 - acc: 0.8983 - val_loss: 0.2437 - val_acc: 0.8986\n",
      "Epoch 10/100\n",
      "20000/20000 [==============================] - 218s 11ms/step - loss: 0.2338 - acc: 0.9064 - val_loss: 0.2420 - val_acc: 0.9006\n",
      "Epoch 11/100\n",
      "20000/20000 [==============================] - 222s 11ms/step - loss: 0.2285 - acc: 0.9066 - val_loss: 0.2327 - val_acc: 0.9026\n",
      "Epoch 12/100\n",
      "20000/20000 [==============================] - 226s 11ms/step - loss: 0.2191 - acc: 0.9128 - val_loss: 0.2357 - val_acc: 0.9002\n",
      "Epoch 13/100\n",
      "20000/20000 [==============================] - 230s 11ms/step - loss: 0.2020 - acc: 0.9205 - val_loss: 0.2253 - val_acc: 0.9078\n",
      "Epoch 14/100\n",
      "20000/20000 [==============================] - 221s 11ms/step - loss: 0.1906 - acc: 0.9256 - val_loss: 0.2247 - val_acc: 0.9092\n",
      "Epoch 15/100\n",
      "20000/20000 [==============================] - 225s 11ms/step - loss: 0.1821 - acc: 0.9291 - val_loss: 0.2257 - val_acc: 0.9064\n",
      "Epoch 16/100\n",
      "20000/20000 [==============================] - 220s 11ms/step - loss: 0.1677 - acc: 0.9336 - val_loss: 0.2239 - val_acc: 0.9066\n",
      "Epoch 17/100\n",
      "20000/20000 [==============================] - 218s 11ms/step - loss: 0.1558 - acc: 0.9415 - val_loss: 0.2444 - val_acc: 0.9018\n",
      "Epoch 18/100\n",
      "20000/20000 [==============================] - 221s 11ms/step - loss: 0.1581 - acc: 0.9375 - val_loss: 0.2306 - val_acc: 0.9086\n",
      "Epoch 19/100\n",
      "20000/20000 [==============================] - 219s 11ms/step - loss: 0.1355 - acc: 0.9490 - val_loss: 0.2324 - val_acc: 0.9098\n",
      "Epoch 00019: early stopping\n"
     ]
    }
   ],
   "source": [
    "\"\"\"\n",
    "Training Session\n",
    "\"\"\"\n",
    "from keras import backend as K\n",
    "from sklearn.model_selection import KFold\n",
    "from keras.callbacks import EarlyStopping, ModelCheckpoint\n",
    "\n",
    "\n",
    "BATCH_SIZE = 1024\n",
    "NUM_EPOCHS = 100\n",
    "FOLDER_NUM = 5\n",
    "\n",
    "splits = list(KFold(n_splits=FOLDER_NUM).split(train_text, train_label))\n",
    "\n",
    "test_preds = np.zeros((test_text.shape[0]))\n",
    "folders = [i for i in range(FOLDER_NUM)]\n",
    "\n",
    "for folder in folders:\n",
    "    K.clear_session()\n",
    "    train_index, validate_index = splits[folder]\n",
    "    es = EarlyStopping(monitor='val_loss', mode='min', verbose=1, patience=3)\n",
    "    model = build_model()\n",
    "    model.fit(x = train_text[train_index],\n",
    "              y = train_label[train_index],\n",
    "              batch_size = BATCH_SIZE,\n",
    "              epochs = NUM_EPOCHS,\n",
    "              validation_data = (train_text[validate_index],\n",
    "                                 train_label[validate_index]),\n",
    "              callbacks = [es])\n",
    "    test_preds += model.predict(test_text)[:, 0]\n",
    "test_preds /= 5"
   ]
  },
  {
   "cell_type": "code",
   "execution_count": 26,
   "metadata": {},
   "outputs": [
    {
     "name": "stdout",
     "output_type": "stream",
     "text": [
      "==========Model Evalucation=========\n",
      "              precision    recall  f1-score   support\n",
      "\n",
      "           0       0.92      0.91      0.92     12500\n",
      "           1       0.91      0.93      0.92     12500\n",
      "\n",
      "   micro avg       0.92      0.92      0.92     25000\n",
      "   macro avg       0.92      0.92      0.92     25000\n",
      "weighted avg       0.92      0.92      0.92     25000\n",
      "\n",
      "============Test Accuracy===========\n",
      "acc: 0.91684\n"
     ]
    }
   ],
   "source": [
    "test_predect = [1 if each > 0.5 else 0 for each in test_preds ]\n",
    "print(\"==========Model Evalucation=========\")\n",
    "print(classification_report(test_label, test_predect))\n",
    "print(\"============Test Accuracy===========\")\n",
    "print(\"acc:\", balanced_accuracy_score(test_label, test_predect))"
   ]
  }
 ],
 "metadata": {
  "kernelspec": {
   "display_name": "Python [conda env:py36]",
   "language": "python",
   "name": "conda-env-py36-py"
  },
  "language_info": {
   "codemirror_mode": {
    "name": "ipython",
    "version": 3
   },
   "file_extension": ".py",
   "mimetype": "text/x-python",
   "name": "python",
   "nbconvert_exporter": "python",
   "pygments_lexer": "ipython3",
   "version": "3.6.6"
  },
  "toc": {
   "base_numbering": 1,
   "nav_menu": {},
   "number_sections": true,
   "sideBar": true,
   "skip_h1_title": false,
   "title_cell": "Table of Contents",
   "title_sidebar": "Contents",
   "toc_cell": false,
   "toc_position": {},
   "toc_section_display": true,
   "toc_window_display": false
  }
 },
 "nbformat": 4,
 "nbformat_minor": 1
}
