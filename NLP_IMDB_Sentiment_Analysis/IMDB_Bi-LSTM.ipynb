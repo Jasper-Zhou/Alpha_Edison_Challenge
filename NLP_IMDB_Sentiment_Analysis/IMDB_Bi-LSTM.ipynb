{
 "cells": [
  {
   "cell_type": "code",
   "execution_count": 13,
   "metadata": {},
   "outputs": [],
   "source": [
    "import re\n",
    "import os\n",
    "import logging\n",
    "import gc\n",
    "import numpy as np\n",
    "import pandas as pd\n",
    "from tqdm import tqdm\n",
    "from sklearn.utils import shuffle\n",
    "from matplotlib import pyplot as plt\n",
    "from sklearn.metrics import classification_report\n",
    "from sklearn.metrics import balanced_accuracy_score\n",
    "\n",
    "tqdm.pandas()\n",
    "logging.basicConfig(level=logging.DEBUG)"
   ]
  },
  {
   "cell_type": "code",
   "execution_count": 2,
   "metadata": {
    "collapsed": true
   },
   "outputs": [],
   "source": [
    "SENTIMENT_COLUMN = 'target'\n",
    "TEXT_COLUMN = 'text'\n",
    "RAW_TEXT_COLUMN = 'raw_text'"
   ]
  },
  {
   "cell_type": "code",
   "execution_count": 3,
   "metadata": {
    "collapsed": true
   },
   "outputs": [],
   "source": [
    "def read_files(path):\n",
    "    train_pos_files = os.listdir(path)\n",
    "    raw_text = []\n",
    "    for filename in train_pos_files:\n",
    "        fb = open(path+filename,'r')\n",
    "        raw_text.append(fb.readline())\n",
    "        fb.close()  \n",
    "    return raw_text"
   ]
  },
  {
   "cell_type": "code",
   "execution_count": 4,
   "metadata": {
    "collapsed": true
   },
   "outputs": [],
   "source": [
    "contraction_mapping = {\"ain't\": \"is not\", \"aren't\": \"are not\",\"can't\": \"cannot\", \"'cause\": \"because\", \"could've\": \"could have\", \"couldn't\": \"could not\", \"didn't\": \"did not\",  \"doesn't\": \"does not\", \"don't\": \"do not\", \"hadn't\": \"had not\", \"hasn't\": \"has not\", \"haven't\": \"have not\", \"he'd\": \"he would\",\"he'll\": \"he will\", \"he's\": \"he is\", \"how'd\": \"how did\", \"how'd'y\": \"how do you\", \"how'll\": \"how will\", \"how's\": \"how is\",  \"I'd\": \"I would\", \"I'd've\": \"I would have\", \"I'll\": \"I will\", \"I'll've\": \"I will have\",\"I'm\": \"I am\", \"I've\": \"I have\", \"i'd\": \"i would\", \"i'd've\": \"i would have\", \"i'll\": \"i will\",  \"i'll've\": \"i will have\",\"i'm\": \"i am\", \"i've\": \"i have\", \"isn't\": \"is not\", \"it'd\": \"it would\", \"it'd've\": \"it would have\", \"it'll\": \"it will\", \"it'll've\": \"it will have\",\"it's\": \"it is\", \"let's\": \"let us\", \"ma'am\": \"madam\", \"mayn't\": \"may not\", \"might've\": \"might have\",\"mightn't\": \"might not\",\"mightn't've\": \"might not have\", \"must've\": \"must have\", \"mustn't\": \"must not\", \"mustn't've\": \"must not have\", \"needn't\": \"need not\", \"needn't've\": \"need not have\",\"o'clock\": \"of the clock\", \"oughtn't\": \"ought not\", \"oughtn't've\": \"ought not have\", \"shan't\": \"shall not\", \"sha'n't\": \"shall not\", \"shan't've\": \"shall not have\", \"she'd\": \"she would\", \"she'd've\": \"she would have\", \"she'll\": \"she will\", \"she'll've\": \"she will have\", \"she's\": \"she is\", \"should've\": \"should have\", \"shouldn't\": \"should not\", \"shouldn't've\": \"should not have\", \"so've\": \"so have\",\"so's\": \"so as\", \"this's\": \"this is\",\"that'd\": \"that would\", \"that'd've\": \"that would have\", \"that's\": \"that is\", \"there'd\": \"there would\", \"there'd've\": \"there would have\", \"there's\": \"there is\", \"here's\": \"here is\",\"they'd\": \"they would\", \"they'd've\": \"they would have\", \"they'll\": \"they will\", \"they'll've\": \"they will have\", \"they're\": \"they are\", \"they've\": \"they have\", \"to've\": \"to have\", \"wasn't\": \"was not\", \"we'd\": \"we would\", \"we'd've\": \"we would have\", \"we'll\": \"we will\", \"we'll've\": \"we will have\", \"we're\": \"we are\", \"we've\": \"we have\", \"weren't\": \"were not\", \"what'll\": \"what will\", \"what'll've\": \"what will have\", \"what're\": \"what are\",  \"what's\": \"what is\", \"what've\": \"what have\", \"when's\": \"when is\", \"when've\": \"when have\", \"where'd\": \"where did\", \"where's\": \"where is\", \"where've\": \"where have\", \"who'll\": \"who will\", \"who'll've\": \"who will have\", \"who's\": \"who is\", \"who've\": \"who have\", \"why's\": \"why is\", \"why've\": \"why have\", \"will've\": \"will have\", \"won't\": \"will not\", \"won't've\": \"will not have\", \"would've\": \"would have\", \"wouldn't\": \"would not\", \"wouldn't've\": \"would not have\", \"y'all\": \"you all\", \"y'all'd\": \"you all would\",\"y'all'd've\": \"you all would have\",\"y'all're\": \"you all are\",\"y'all've\": \"you all have\",\"you'd\": \"you would\", \"you'd've\": \"you would have\", \"you'll\": \"you will\", \"you'll've\": \"you will have\", \"you're\": \"you are\", \"you've\": \"you have\" }\n",
    "def normalize(words):\n",
    "    word_list = []\n",
    "    for word in words:\n",
    "        \"\"\"Remove non-ASCII characters from list of tokenized words\"\"\"\n",
    "        new_word = unicodedata.normalize('NFKD', word).encode('ascii', 'ignore').decode('utf-8', 'ignore')\n",
    "        \"\"\"Convert all characters to lowercase from list of tokenized words\"\"\"\n",
    "        new_word = new_word.lower()\n",
    "        \"\"\"Remove punctuation except for \"?\" and \"!\" from list of tokenized words\"\"\"\n",
    "        if contraction_mapping.__contains__(new_word):\n",
    "            new_word = contraction_mapping[new_word]\n",
    "        new_word = re.sub(r'[^\\w\\s!?]', '', new_word)\n",
    "        \"\"\"Lemmatize verbs in list of tokenized words\"\"\"\n",
    "        lemmatizer = WordNetLemmatizer()\n",
    "        new_word = lemmatizer.lemmatize(new_word, pos='v')\n",
    "        \"\"\"Replace all interger occurrences in list of tokenized words with textual representation\"\"\"\n",
    "        if new_word.isdigit():\n",
    "            new_word = 'digit'\n",
    "        if new_word != '':\n",
    "            word_list.append(new_word)\n",
    "    return word_list"
   ]
  },
  {
   "cell_type": "code",
   "execution_count": 5,
   "metadata": {
    "collapsed": true
   },
   "outputs": [],
   "source": [
    "# read all train data\n",
    "train_pos = read_files('./aclImdb/train/pos/')\n",
    "train_neg = read_files('./aclImdb/train/neg/')\n",
    "raw_train_text = train_pos + train_neg\n",
    "train_label = [1] * len(train_pos) + [0] * len(train_neg)\n",
    "raw_train_text, train_label = shuffle(raw_train_text, train_label, random_state=0)\n",
    "\n",
    "# read all test data\n",
    "test_pos = read_files('./aclImdb/test/pos/')\n",
    "test_neg = read_files('./aclImdb/test/neg/')\n",
    "raw_test_text = test_pos + test_neg\n",
    "test_label = [1] * len(test_pos) + [0] * len(test_neg)\n",
    "raw_test_text, test_label = shuffle(raw_test_text, test_label, random_state=0)\n",
    "\n",
    "raw_corpus_text = raw_train_text + raw_test_text"
   ]
  },
  {
   "cell_type": "code",
   "execution_count": 6,
   "metadata": {
    "collapsed": true
   },
   "outputs": [],
   "source": [
    "from nltk.stem import WordNetLemmatizer\n",
    "from tokenizer import tokenize\n",
    "import re, unicodedata, inflect\n",
    "train_text = []\n",
    "for each in raw_train_text:\n",
    "    tmp = each.replace('-', ' ').replace('<br />',\"\")\n",
    "    train_text.append(\"\".join(word + ' ' for word in normalize([word.txt for word in tokenize(tmp) if word.txt != None])).strip())\n",
    "test_text = []\n",
    "for each in raw_test_text:\n",
    "    tmp = each.replace('-', ' ').replace('<br />',\"\")\n",
    "    test_text.append(\"\".join(word + ' ' for word in normalize([word.txt for word in tokenize(tmp) if word.txt != None])).strip())\n",
    "processed_corpus_text = train_text + test_text"
   ]
  },
  {
   "cell_type": "code",
   "execution_count": 7,
   "metadata": {
    "collapsed": true
   },
   "outputs": [],
   "source": [
    "MAX_SEQUENCE_LEN = 512\n",
    "MAX_FEATURES = 100000"
   ]
  },
  {
   "cell_type": "code",
   "execution_count": 8,
   "metadata": {},
   "outputs": [
    {
     "name": "stderr",
     "output_type": "stream",
     "text": [
      "Using TensorFlow backend.\n"
     ]
    }
   ],
   "source": [
    "\"\"\"\n",
    "Load data\n",
    "\"\"\"\n",
    "\n",
    "from keras.preprocessing.text import Tokenizer\n",
    "from keras.preprocessing.sequence import pad_sequences\n",
    "\n",
    "train = pd.DataFrame(list(zip(raw_train_text,train_text, train_label)), columns =[RAW_TEXT_COLUMN,TEXT_COLUMN, SENTIMENT_COLUMN])\n",
    "test = pd.DataFrame(list(zip(raw_test_text,test_text, test_label)), columns =[RAW_TEXT_COLUMN,TEXT_COLUMN, SENTIMENT_COLUMN])\n",
    "train_label = train[SENTIMENT_COLUMN]"
   ]
  },
  {
   "cell_type": "code",
   "execution_count": 15,
   "metadata": {},
   "outputs": [
    {
     "name": "stderr",
     "output_type": "stream",
     "text": [
      "INFO:root:Fitting Tokenizer\n",
      "INFO:root:Beginning process train text\n",
      "INFO:root:Beginning process test text\n"
     ]
    }
   ],
   "source": [
    "\"\"\"\n",
    "Fit tokenizer\n",
    "\"\"\"\n",
    "\n",
    "logging.info(\"Fitting Tokenizer\")\n",
    "\n",
    "tokenizer = Tokenizer(num_words=MAX_FEATURES, lower=True)\n",
    "# Updates internal vocabulary based on a list of texts\n",
    "tokenizer.fit_on_texts(list(train[TEXT_COLUMN]) + list(test[TEXT_COLUMN]))\n",
    "\n",
    "logging.info(\"Beginning process train text\")\n",
    "train_text = tokenizer.texts_to_sequences(list(train[TEXT_COLUMN]))\n",
    "train_text = pad_sequences(train_text, maxlen=MAX_SEQUENCE_LEN)\n",
    "\n",
    "logging.info(\"Beginning process test text\")\n",
    "test_text = tokenizer.texts_to_sequences(list(test[TEXT_COLUMN]))\n",
    "test_text = pad_sequences(test_text, maxlen=MAX_SEQUENCE_LEN)"
   ]
  },
  {
   "cell_type": "code",
   "execution_count": 16,
   "metadata": {},
   "outputs": [
    {
     "data": {
      "text/plain": [
       "0"
      ]
     },
     "execution_count": 16,
     "metadata": {},
     "output_type": "execute_result"
    }
   ],
   "source": [
    "word_index = tokenizer.word_index\n",
    "del tokenizer\n",
    "gc.collect()"
   ]
  },
  {
   "cell_type": "code",
   "execution_count": 17,
   "metadata": {
    "collapsed": true
   },
   "outputs": [],
   "source": [
    "\"\"\"\n",
    "Get word Embedding\n",
    "\"\"\"\n",
    "\n",
    "EMB_PATH = \"skipgram_model_IMDB.vec\"\n",
    "EMBEDDING_DIM = 300\n",
    "\n",
    "def get_coefs(word,*arr):\n",
    "    return word, np.asarray(arr, dtype='float32')\n",
    "\n",
    "def load_embeddings(embed_dir=EMB_PATH):\n",
    "    embedding_index = dict(get_coefs(*o.strip().split(\" \")) for o in tqdm(open(embed_dir)))\n",
    "    return embedding_index\n",
    "\n",
    "def build_matrix(word_index, embeddings_index):\n",
    "    embedding_matrix = np.zeros((len(word_index) + 1,EMBEDDING_DIM))\n",
    "    for word, i in word_index.items():\n",
    "        try:\n",
    "            embedding_matrix[i] = embeddings_index[word]\n",
    "        except:\n",
    "            embedding_matrix[i] = embeddings_index[\"unknown\"]\n",
    "    return embedding_matrix"
   ]
  },
  {
   "cell_type": "code",
   "execution_count": 18,
   "metadata": {},
   "outputs": [
    {
     "name": "stderr",
     "output_type": "stream",
     "text": [
      "76832it [00:13, 5848.09it/s]\n"
     ]
    },
    {
     "data": {
      "text/plain": [
       "0"
      ]
     },
     "execution_count": 18,
     "metadata": {},
     "output_type": "execute_result"
    }
   ],
   "source": [
    "embeddings_index = load_embeddings()\n",
    "embedding_matrix = build_matrix(word_index, embeddings_index)\n",
    "del embeddings_index\n",
    "gc.collect()"
   ]
  },
  {
   "cell_type": "code",
   "execution_count": 25,
   "metadata": {
    "collapsed": true
   },
   "outputs": [],
   "source": [
    "\"\"\"\n",
    "Model builder\n",
    "\"\"\"\n",
    "\n",
    "from keras.layers import Dense , Input , LSTM , Embedding, Dropout , Activation, GRU, Flatten\n",
    "from keras.layers import Bidirectional, GlobalMaxPooling1D\n",
    "from keras.models import Model, Sequential\n",
    "from keras.layers import Convolution1D\n",
    "from keras import initializers, regularizers, constraints, optimizers, layers\n",
    "\n",
    "def build_model(verbose = False, compile = True):\n",
    "    sequence_input = Input(shape=(MAX_SEQUENCE_LEN,), dtype='int32')\n",
    "    embedding_layer = Embedding(len(word_index) + 1,\n",
    "                                EMBEDDING_DIM,\n",
    "                                weights=[embedding_matrix],\n",
    "                                input_length=MAX_SEQUENCE_LEN,\n",
    "                                trainable=False)\n",
    "    \n",
    "    x = embedding_layer(sequence_input)\n",
    "    x = Bidirectional(LSTM(64, return_sequences=True))(x)\n",
    "    x = GlobalMaxPooling1D()(x)\n",
    "    x = Dense(32, activation='relu')(x)\n",
    "    x = Dropout(0.1)(x)\n",
    "    preds = Dense(1, activation='sigmoid')(x)\n",
    "    \n",
    "    model = Model(sequence_input, preds)\n",
    "    if verbose:\n",
    "        model.summary()\n",
    "    if compile:\n",
    "        model.compile(loss='binary_crossentropy',\n",
    "                      optimizer='Adam',\n",
    "                      metrics=['acc'])\n",
    "    return model"
   ]
  },
  {
   "cell_type": "code",
   "execution_count": 26,
   "metadata": {},
   "outputs": [
    {
     "name": "stdout",
     "output_type": "stream",
     "text": [
      "_________________________________________________________________\n",
      "Layer (type)                 Output Shape              Param #   \n",
      "=================================================================\n",
      "input_4 (InputLayer)         (None, 512)               0         \n",
      "_________________________________________________________________\n",
      "embedding_4 (Embedding)      (None, 512, 300)          30914400  \n",
      "_________________________________________________________________\n",
      "bidirectional_4 (Bidirection (None, 512, 128)          186880    \n",
      "_________________________________________________________________\n",
      "global_max_pooling1d_2 (Glob (None, 128)               0         \n",
      "_________________________________________________________________\n",
      "dense_3 (Dense)              (None, 32)                4128      \n",
      "_________________________________________________________________\n",
      "dropout_2 (Dropout)          (None, 32)                0         \n",
      "_________________________________________________________________\n",
      "dense_4 (Dense)              (None, 1)                 33        \n",
      "=================================================================\n",
      "Total params: 31,105,441\n",
      "Trainable params: 191,041\n",
      "Non-trainable params: 30,914,400\n",
      "_________________________________________________________________\n"
     ]
    }
   ],
   "source": [
    "model = build_model()\n",
    "model.summary()"
   ]
  },
  {
   "cell_type": "code",
   "execution_count": 30,
   "metadata": {
    "scrolled": true
   },
   "outputs": [
    {
     "name": "stdout",
     "output_type": "stream",
     "text": [
      "Train on 12500 samples, validate on 12500 samples\n",
      "Epoch 1/100\n",
      "12500/12500 [==============================] - 161s 13ms/step - loss: 0.6708 - acc: 0.6132 - val_loss: 0.6318 - val_acc: 0.6881\n",
      "Epoch 2/100\n",
      "12500/12500 [==============================] - 154s 12ms/step - loss: 0.5742 - acc: 0.7252 - val_loss: 0.4704 - val_acc: 0.7914\n",
      "Epoch 3/100\n",
      "12500/12500 [==============================] - 159s 13ms/step - loss: 0.4364 - acc: 0.8040 - val_loss: 0.3971 - val_acc: 0.8322\n",
      "Epoch 4/100\n",
      "12500/12500 [==============================] - 155s 12ms/step - loss: 0.4005 - acc: 0.8189 - val_loss: 0.3989 - val_acc: 0.8135\n",
      "Epoch 5/100\n",
      "12500/12500 [==============================] - 150s 12ms/step - loss: 0.3728 - acc: 0.8372 - val_loss: 0.3405 - val_acc: 0.8550\n",
      "Epoch 6/100\n",
      "12500/12500 [==============================] - 149s 12ms/step - loss: 0.3504 - acc: 0.8482 - val_loss: 0.3278 - val_acc: 0.8611\n",
      "Epoch 7/100\n",
      "12500/12500 [==============================] - 156s 12ms/step - loss: 0.3256 - acc: 0.8615 - val_loss: 0.3336 - val_acc: 0.8580\n",
      "Epoch 8/100\n",
      "12500/12500 [==============================] - 150s 12ms/step - loss: 0.3236 - acc: 0.8610 - val_loss: 0.3130 - val_acc: 0.8680\n",
      "Epoch 9/100\n",
      "12500/12500 [==============================] - 155s 12ms/step - loss: 0.3096 - acc: 0.8686 - val_loss: 0.3367 - val_acc: 0.8498\n",
      "Epoch 10/100\n",
      "12500/12500 [==============================] - 156s 12ms/step - loss: 0.3064 - acc: 0.8715 - val_loss: 0.3112 - val_acc: 0.8677\n",
      "Epoch 11/100\n",
      "12500/12500 [==============================] - 159s 13ms/step - loss: 0.2941 - acc: 0.8785 - val_loss: 0.2999 - val_acc: 0.8761\n",
      "Epoch 12/100\n",
      "12500/12500 [==============================] - 156s 12ms/step - loss: 0.2951 - acc: 0.8792 - val_loss: 0.3091 - val_acc: 0.8674\n",
      "Epoch 13/100\n",
      "12500/12500 [==============================] - 162s 13ms/step - loss: 0.2876 - acc: 0.8794 - val_loss: 0.2982 - val_acc: 0.8758\n",
      "Epoch 14/100\n",
      "12500/12500 [==============================] - 152s 12ms/step - loss: 0.2768 - acc: 0.8867 - val_loss: 0.2941 - val_acc: 0.8770\n",
      "Epoch 15/100\n",
      "12500/12500 [==============================] - 153s 12ms/step - loss: 0.2722 - acc: 0.8886 - val_loss: 0.2928 - val_acc: 0.8758\n",
      "Epoch 16/100\n",
      "12500/12500 [==============================] - 148s 12ms/step - loss: 0.2895 - acc: 0.8778 - val_loss: 0.2984 - val_acc: 0.8737\n",
      "Epoch 17/100\n",
      "12500/12500 [==============================] - 152s 12ms/step - loss: 0.2783 - acc: 0.8876 - val_loss: 0.3241 - val_acc: 0.8573\n",
      "Epoch 18/100\n",
      "12500/12500 [==============================] - 160s 13ms/step - loss: 0.2849 - acc: 0.8778 - val_loss: 0.2969 - val_acc: 0.8770\n",
      "Epoch 00018: early stopping\n",
      "Train on 12500 samples, validate on 12500 samples\n",
      "Epoch 1/100\n",
      "12500/12500 [==============================] - 156s 12ms/step - loss: 0.6754 - acc: 0.5820 - val_loss: 0.6468 - val_acc: 0.6253\n",
      "Epoch 2/100\n",
      "12500/12500 [==============================] - 153s 12ms/step - loss: 0.5896 - acc: 0.7034 - val_loss: 0.4783 - val_acc: 0.7824\n",
      "Epoch 3/100\n",
      "12500/12500 [==============================] - 148s 12ms/step - loss: 0.4957 - acc: 0.7672 - val_loss: 0.4656 - val_acc: 0.7821\n",
      "Epoch 4/100\n",
      "12500/12500 [==============================] - 149s 12ms/step - loss: 0.4286 - acc: 0.8104 - val_loss: 0.3784 - val_acc: 0.8386\n",
      "Epoch 5/100\n",
      "12500/12500 [==============================] - 154s 12ms/step - loss: 0.3775 - acc: 0.8405 - val_loss: 0.3529 - val_acc: 0.8489\n",
      "Epoch 6/100\n",
      "12500/12500 [==============================] - 169s 14ms/step - loss: 0.3541 - acc: 0.8522 - val_loss: 0.3442 - val_acc: 0.8531\n",
      "Epoch 7/100\n",
      "12500/12500 [==============================] - 203s 16ms/step - loss: 0.3353 - acc: 0.8588 - val_loss: 0.3324 - val_acc: 0.8572\n",
      "Epoch 8/100\n",
      "12500/12500 [==============================] - 166s 13ms/step - loss: 0.3342 - acc: 0.8582 - val_loss: 0.3131 - val_acc: 0.8638\n",
      "Epoch 9/100\n",
      "12500/12500 [==============================] - 153s 12ms/step - loss: 0.3203 - acc: 0.8658 - val_loss: 0.3058 - val_acc: 0.8700\n",
      "Epoch 10/100\n",
      "12500/12500 [==============================] - 155s 12ms/step - loss: 0.3045 - acc: 0.8722 - val_loss: 0.3397 - val_acc: 0.8555\n",
      "Epoch 11/100\n",
      "12500/12500 [==============================] - 152s 12ms/step - loss: 0.3083 - acc: 0.8694 - val_loss: 0.3871 - val_acc: 0.8386\n",
      "Epoch 12/100\n",
      "12500/12500 [==============================] - 153s 12ms/step - loss: 0.3119 - acc: 0.8681 - val_loss: 0.3428 - val_acc: 0.8560\n",
      "Epoch 00012: early stopping\n"
     ]
    }
   ],
   "source": [
    "\"\"\"\n",
    "Training Session\n",
    "\"\"\"\n",
    "from keras import backend as K\n",
    "from sklearn.model_selection import KFold\n",
    "from keras.callbacks import EarlyStopping, ModelCheckpoint\n",
    "\n",
    "\n",
    "BATCH_SIZE = 1024\n",
    "NUM_EPOCHS = 100\n",
    "FOLDER_NUM = 2\n",
    "\n",
    "splits = list(KFold(n_splits=FOLDER_NUM).split(train_text, train_label))\n",
    "\n",
    "test_preds = np.zeros((test_text.shape[0]))\n",
    "folders = [i for i in range(FOLDER_NUM)]\n",
    "\n",
    "for folder in folders:\n",
    "    K.clear_session()\n",
    "    train_index, validate_index = splits[folder]\n",
    "    es = EarlyStopping(monitor='val_loss', mode='min', verbose=1, patience=3)\n",
    "    model = build_model()\n",
    "    model.fit(x = train_text[train_index],\n",
    "              y = train_label[train_index],\n",
    "              batch_size = BATCH_SIZE,\n",
    "              epochs = NUM_EPOCHS,\n",
    "              validation_data = (train_text[validate_index],\n",
    "                                 train_label[validate_index]),\n",
    "              callbacks = [es])\n",
    "    test_preds += model.predict(test_text)[:, 0]\n",
    "test_preds /= FOLDER_NUM"
   ]
  },
  {
   "cell_type": "code",
   "execution_count": 31,
   "metadata": {},
   "outputs": [
    {
     "name": "stdout",
     "output_type": "stream",
     "text": [
      "==========Model Evalucation=========\n",
      "              precision    recall  f1-score   support\n",
      "\n",
      "           0       0.90      0.86      0.88     12500\n",
      "           1       0.87      0.90      0.88     12500\n",
      "\n",
      "   micro avg       0.88      0.88      0.88     25000\n",
      "   macro avg       0.88      0.88      0.88     25000\n",
      "weighted avg       0.88      0.88      0.88     25000\n",
      "\n",
      "============Test Accuracy===========\n",
      "acc: 0.88124\n"
     ]
    }
   ],
   "source": [
    "test_predect = [1 if each > 0.5 else 0 for each in test_preds ]\n",
    "print(\"==========Model Evalucation=========\")\n",
    "print(classification_report(test_label, test_predect))\n",
    "print(\"============Test Accuracy===========\")\n",
    "print(\"acc:\", balanced_accuracy_score(test_label, test_predect))"
   ]
  }
 ],
 "metadata": {
  "kernelspec": {
   "display_name": "Python [conda env:py36]",
   "language": "python",
   "name": "conda-env-py36-py"
  },
  "language_info": {
   "codemirror_mode": {
    "name": "ipython",
    "version": 3
   },
   "file_extension": ".py",
   "mimetype": "text/x-python",
   "name": "python",
   "nbconvert_exporter": "python",
   "pygments_lexer": "ipython3",
   "version": "3.6.6"
  },
  "toc": {
   "base_numbering": 1,
   "nav_menu": {},
   "number_sections": true,
   "sideBar": true,
   "skip_h1_title": false,
   "title_cell": "Table of Contents",
   "title_sidebar": "Contents",
   "toc_cell": false,
   "toc_position": {},
   "toc_section_display": true,
   "toc_window_display": false
  }
 },
 "nbformat": 4,
 "nbformat_minor": 2
}
